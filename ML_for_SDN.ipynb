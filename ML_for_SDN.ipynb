{
 "cells": [
  {
   "cell_type": "code",
   "execution_count": 1,
   "metadata": {},
   "outputs": [],
   "source": [
    "import pandas as pd\n",
    "import tensorflow as tf\n",
    "import numpy as np\n",
    "from sklearn.linear_model import LinearRegression\n",
    "from sklearn.model_selection import train_test_split\n",
    "from sklearn.svm import SVC\n",
    "from sklearn import neighbors\n",
    "from sklearn.metrics import accuracy_score\n",
    "from sklearn.tree import DecisionTreeClassifier\n",
    "from sklearn.ensemble import RandomForestClassifier\n",
    "from sklearn.cluster import KMeans\n",
    "from sklearn.naive_bayes import GaussianNB\n",
    "from sklearn import model_selection\n",
    "from sklearn.neighbors import KNeighborsClassifier\n",
    "from sklearn.ensemble import BaggingClassifier\n",
    "from keras.models import Sequential\n",
    "from keras.layers import Dense\n",
    "from tensorflow.keras import models, layers\n",
    "from keras.wrappers.scikit_learn import KerasClassifier\n",
    "from sklearn.model_selection import cross_val_score\n",
    "from sklearn.preprocessing import LabelEncoder\n",
    "from sklearn.model_selection import StratifiedKFold\n",
    "from sklearn.preprocessing import StandardScaler\n",
    "from sklearn.pipeline import Pipeline\n",
    "#from pyDeepInsight import ImageTransformer, LogScaler\n",
    "from sklearn.preprocessing import MinMaxScaler\n",
    "from sklearn.model_selection import train_test_split\n",
    "from keras.callbacks import EarlyStopping\n",
    "from matplotlib import pyplot as plt\n",
    "from matplotlib.pyplot import figure\n",
    "import seaborn as sns"
   ]
  },
  {
   "cell_type": "code",
   "execution_count": 2,
   "metadata": {},
   "outputs": [],
   "source": [
    "df = pd.read_csv(r'dataset_sdn.csv')"
   ]
  },
  {
   "cell_type": "code",
   "execution_count": 3,
   "metadata": {},
   "outputs": [
    {
     "data": {
      "text/html": [
       "<div>\n",
       "<style scoped>\n",
       "    .dataframe tbody tr th:only-of-type {\n",
       "        vertical-align: middle;\n",
       "    }\n",
       "\n",
       "    .dataframe tbody tr th {\n",
       "        vertical-align: top;\n",
       "    }\n",
       "\n",
       "    .dataframe thead th {\n",
       "        text-align: right;\n",
       "    }\n",
       "</style>\n",
       "<table border=\"1\" class=\"dataframe\">\n",
       "  <thead>\n",
       "    <tr style=\"text-align: right;\">\n",
       "      <th></th>\n",
       "      <th>dt</th>\n",
       "      <th>switch</th>\n",
       "      <th>src</th>\n",
       "      <th>dst</th>\n",
       "      <th>pktcount</th>\n",
       "      <th>bytecount</th>\n",
       "      <th>dur</th>\n",
       "      <th>dur_nsec</th>\n",
       "      <th>tot_dur</th>\n",
       "      <th>flows</th>\n",
       "      <th>...</th>\n",
       "      <th>pktrate</th>\n",
       "      <th>Pairflow</th>\n",
       "      <th>Protocol</th>\n",
       "      <th>port_no</th>\n",
       "      <th>tx_bytes</th>\n",
       "      <th>rx_bytes</th>\n",
       "      <th>tx_kbps</th>\n",
       "      <th>rx_kbps</th>\n",
       "      <th>tot_kbps</th>\n",
       "      <th>label</th>\n",
       "    </tr>\n",
       "  </thead>\n",
       "  <tbody>\n",
       "    <tr>\n",
       "      <th>0</th>\n",
       "      <td>11425</td>\n",
       "      <td>1</td>\n",
       "      <td>10.0.0.1</td>\n",
       "      <td>10.0.0.8</td>\n",
       "      <td>45304</td>\n",
       "      <td>48294064</td>\n",
       "      <td>100</td>\n",
       "      <td>716000000</td>\n",
       "      <td>1.010000e+11</td>\n",
       "      <td>3</td>\n",
       "      <td>...</td>\n",
       "      <td>451</td>\n",
       "      <td>0</td>\n",
       "      <td>UDP</td>\n",
       "      <td>3</td>\n",
       "      <td>143928631</td>\n",
       "      <td>3917</td>\n",
       "      <td>0</td>\n",
       "      <td>0.0</td>\n",
       "      <td>0.0</td>\n",
       "      <td>0</td>\n",
       "    </tr>\n",
       "    <tr>\n",
       "      <th>1</th>\n",
       "      <td>11605</td>\n",
       "      <td>1</td>\n",
       "      <td>10.0.0.1</td>\n",
       "      <td>10.0.0.8</td>\n",
       "      <td>126395</td>\n",
       "      <td>134737070</td>\n",
       "      <td>280</td>\n",
       "      <td>734000000</td>\n",
       "      <td>2.810000e+11</td>\n",
       "      <td>2</td>\n",
       "      <td>...</td>\n",
       "      <td>451</td>\n",
       "      <td>0</td>\n",
       "      <td>UDP</td>\n",
       "      <td>4</td>\n",
       "      <td>3842</td>\n",
       "      <td>3520</td>\n",
       "      <td>0</td>\n",
       "      <td>0.0</td>\n",
       "      <td>0.0</td>\n",
       "      <td>0</td>\n",
       "    </tr>\n",
       "    <tr>\n",
       "      <th>2</th>\n",
       "      <td>11425</td>\n",
       "      <td>1</td>\n",
       "      <td>10.0.0.2</td>\n",
       "      <td>10.0.0.8</td>\n",
       "      <td>90333</td>\n",
       "      <td>96294978</td>\n",
       "      <td>200</td>\n",
       "      <td>744000000</td>\n",
       "      <td>2.010000e+11</td>\n",
       "      <td>3</td>\n",
       "      <td>...</td>\n",
       "      <td>451</td>\n",
       "      <td>0</td>\n",
       "      <td>UDP</td>\n",
       "      <td>1</td>\n",
       "      <td>3795</td>\n",
       "      <td>1242</td>\n",
       "      <td>0</td>\n",
       "      <td>0.0</td>\n",
       "      <td>0.0</td>\n",
       "      <td>0</td>\n",
       "    </tr>\n",
       "    <tr>\n",
       "      <th>3</th>\n",
       "      <td>11425</td>\n",
       "      <td>1</td>\n",
       "      <td>10.0.0.2</td>\n",
       "      <td>10.0.0.8</td>\n",
       "      <td>90333</td>\n",
       "      <td>96294978</td>\n",
       "      <td>200</td>\n",
       "      <td>744000000</td>\n",
       "      <td>2.010000e+11</td>\n",
       "      <td>3</td>\n",
       "      <td>...</td>\n",
       "      <td>451</td>\n",
       "      <td>0</td>\n",
       "      <td>UDP</td>\n",
       "      <td>2</td>\n",
       "      <td>3688</td>\n",
       "      <td>1492</td>\n",
       "      <td>0</td>\n",
       "      <td>0.0</td>\n",
       "      <td>0.0</td>\n",
       "      <td>0</td>\n",
       "    </tr>\n",
       "    <tr>\n",
       "      <th>4</th>\n",
       "      <td>11425</td>\n",
       "      <td>1</td>\n",
       "      <td>10.0.0.2</td>\n",
       "      <td>10.0.0.8</td>\n",
       "      <td>90333</td>\n",
       "      <td>96294978</td>\n",
       "      <td>200</td>\n",
       "      <td>744000000</td>\n",
       "      <td>2.010000e+11</td>\n",
       "      <td>3</td>\n",
       "      <td>...</td>\n",
       "      <td>451</td>\n",
       "      <td>0</td>\n",
       "      <td>UDP</td>\n",
       "      <td>3</td>\n",
       "      <td>3413</td>\n",
       "      <td>3665</td>\n",
       "      <td>0</td>\n",
       "      <td>0.0</td>\n",
       "      <td>0.0</td>\n",
       "      <td>0</td>\n",
       "    </tr>\n",
       "    <tr>\n",
       "      <th>...</th>\n",
       "      <td>...</td>\n",
       "      <td>...</td>\n",
       "      <td>...</td>\n",
       "      <td>...</td>\n",
       "      <td>...</td>\n",
       "      <td>...</td>\n",
       "      <td>...</td>\n",
       "      <td>...</td>\n",
       "      <td>...</td>\n",
       "      <td>...</td>\n",
       "      <td>...</td>\n",
       "      <td>...</td>\n",
       "      <td>...</td>\n",
       "      <td>...</td>\n",
       "      <td>...</td>\n",
       "      <td>...</td>\n",
       "      <td>...</td>\n",
       "      <td>...</td>\n",
       "      <td>...</td>\n",
       "      <td>...</td>\n",
       "      <td>...</td>\n",
       "    </tr>\n",
       "    <tr>\n",
       "      <th>104340</th>\n",
       "      <td>5262</td>\n",
       "      <td>3</td>\n",
       "      <td>10.0.0.5</td>\n",
       "      <td>10.0.0.7</td>\n",
       "      <td>79</td>\n",
       "      <td>7742</td>\n",
       "      <td>81</td>\n",
       "      <td>842000000</td>\n",
       "      <td>8.184200e+10</td>\n",
       "      <td>5</td>\n",
       "      <td>...</td>\n",
       "      <td>0</td>\n",
       "      <td>0</td>\n",
       "      <td>ICMP</td>\n",
       "      <td>1</td>\n",
       "      <td>15209</td>\n",
       "      <td>12720</td>\n",
       "      <td>1</td>\n",
       "      <td>1.0</td>\n",
       "      <td>2.0</td>\n",
       "      <td>0</td>\n",
       "    </tr>\n",
       "    <tr>\n",
       "      <th>104341</th>\n",
       "      <td>5262</td>\n",
       "      <td>3</td>\n",
       "      <td>10.0.0.5</td>\n",
       "      <td>10.0.0.7</td>\n",
       "      <td>79</td>\n",
       "      <td>7742</td>\n",
       "      <td>81</td>\n",
       "      <td>842000000</td>\n",
       "      <td>8.184200e+10</td>\n",
       "      <td>5</td>\n",
       "      <td>...</td>\n",
       "      <td>0</td>\n",
       "      <td>0</td>\n",
       "      <td>ICMP</td>\n",
       "      <td>3</td>\n",
       "      <td>15099</td>\n",
       "      <td>14693</td>\n",
       "      <td>1</td>\n",
       "      <td>1.0</td>\n",
       "      <td>2.0</td>\n",
       "      <td>0</td>\n",
       "    </tr>\n",
       "    <tr>\n",
       "      <th>104342</th>\n",
       "      <td>5262</td>\n",
       "      <td>3</td>\n",
       "      <td>10.0.0.11</td>\n",
       "      <td>10.0.0.5</td>\n",
       "      <td>31</td>\n",
       "      <td>3038</td>\n",
       "      <td>31</td>\n",
       "      <td>805000000</td>\n",
       "      <td>3.180500e+10</td>\n",
       "      <td>5</td>\n",
       "      <td>...</td>\n",
       "      <td>1</td>\n",
       "      <td>0</td>\n",
       "      <td>ICMP</td>\n",
       "      <td>2</td>\n",
       "      <td>3409</td>\n",
       "      <td>3731</td>\n",
       "      <td>0</td>\n",
       "      <td>0.0</td>\n",
       "      <td>0.0</td>\n",
       "      <td>0</td>\n",
       "    </tr>\n",
       "    <tr>\n",
       "      <th>104343</th>\n",
       "      <td>5262</td>\n",
       "      <td>3</td>\n",
       "      <td>10.0.0.11</td>\n",
       "      <td>10.0.0.5</td>\n",
       "      <td>31</td>\n",
       "      <td>3038</td>\n",
       "      <td>31</td>\n",
       "      <td>805000000</td>\n",
       "      <td>3.180500e+10</td>\n",
       "      <td>5</td>\n",
       "      <td>...</td>\n",
       "      <td>1</td>\n",
       "      <td>0</td>\n",
       "      <td>ICMP</td>\n",
       "      <td>1</td>\n",
       "      <td>15209</td>\n",
       "      <td>12720</td>\n",
       "      <td>1</td>\n",
       "      <td>1.0</td>\n",
       "      <td>2.0</td>\n",
       "      <td>0</td>\n",
       "    </tr>\n",
       "    <tr>\n",
       "      <th>104344</th>\n",
       "      <td>5262</td>\n",
       "      <td>3</td>\n",
       "      <td>10.0.0.11</td>\n",
       "      <td>10.0.0.5</td>\n",
       "      <td>31</td>\n",
       "      <td>3038</td>\n",
       "      <td>31</td>\n",
       "      <td>805000000</td>\n",
       "      <td>3.180500e+10</td>\n",
       "      <td>5</td>\n",
       "      <td>...</td>\n",
       "      <td>1</td>\n",
       "      <td>0</td>\n",
       "      <td>ICMP</td>\n",
       "      <td>3</td>\n",
       "      <td>15099</td>\n",
       "      <td>14693</td>\n",
       "      <td>1</td>\n",
       "      <td>1.0</td>\n",
       "      <td>2.0</td>\n",
       "      <td>0</td>\n",
       "    </tr>\n",
       "  </tbody>\n",
       "</table>\n",
       "<p>104345 rows × 23 columns</p>\n",
       "</div>"
      ],
      "text/plain": [
       "           dt  switch        src       dst  pktcount  bytecount  dur  \\\n",
       "0       11425       1   10.0.0.1  10.0.0.8     45304   48294064  100   \n",
       "1       11605       1   10.0.0.1  10.0.0.8    126395  134737070  280   \n",
       "2       11425       1   10.0.0.2  10.0.0.8     90333   96294978  200   \n",
       "3       11425       1   10.0.0.2  10.0.0.8     90333   96294978  200   \n",
       "4       11425       1   10.0.0.2  10.0.0.8     90333   96294978  200   \n",
       "...       ...     ...        ...       ...       ...        ...  ...   \n",
       "104340   5262       3   10.0.0.5  10.0.0.7        79       7742   81   \n",
       "104341   5262       3   10.0.0.5  10.0.0.7        79       7742   81   \n",
       "104342   5262       3  10.0.0.11  10.0.0.5        31       3038   31   \n",
       "104343   5262       3  10.0.0.11  10.0.0.5        31       3038   31   \n",
       "104344   5262       3  10.0.0.11  10.0.0.5        31       3038   31   \n",
       "\n",
       "         dur_nsec       tot_dur  flows  ...  pktrate  Pairflow  Protocol  \\\n",
       "0       716000000  1.010000e+11      3  ...      451         0       UDP   \n",
       "1       734000000  2.810000e+11      2  ...      451         0       UDP   \n",
       "2       744000000  2.010000e+11      3  ...      451         0       UDP   \n",
       "3       744000000  2.010000e+11      3  ...      451         0       UDP   \n",
       "4       744000000  2.010000e+11      3  ...      451         0       UDP   \n",
       "...           ...           ...    ...  ...      ...       ...       ...   \n",
       "104340  842000000  8.184200e+10      5  ...        0         0      ICMP   \n",
       "104341  842000000  8.184200e+10      5  ...        0         0      ICMP   \n",
       "104342  805000000  3.180500e+10      5  ...        1         0      ICMP   \n",
       "104343  805000000  3.180500e+10      5  ...        1         0      ICMP   \n",
       "104344  805000000  3.180500e+10      5  ...        1         0      ICMP   \n",
       "\n",
       "        port_no   tx_bytes rx_bytes  tx_kbps  rx_kbps  tot_kbps  label  \n",
       "0             3  143928631     3917        0      0.0       0.0      0  \n",
       "1             4       3842     3520        0      0.0       0.0      0  \n",
       "2             1       3795     1242        0      0.0       0.0      0  \n",
       "3             2       3688     1492        0      0.0       0.0      0  \n",
       "4             3       3413     3665        0      0.0       0.0      0  \n",
       "...         ...        ...      ...      ...      ...       ...    ...  \n",
       "104340        1      15209    12720        1      1.0       2.0      0  \n",
       "104341        3      15099    14693        1      1.0       2.0      0  \n",
       "104342        2       3409     3731        0      0.0       0.0      0  \n",
       "104343        1      15209    12720        1      1.0       2.0      0  \n",
       "104344        3      15099    14693        1      1.0       2.0      0  \n",
       "\n",
       "[104345 rows x 23 columns]"
      ]
     },
     "execution_count": 3,
     "metadata": {},
     "output_type": "execute_result"
    }
   ],
   "source": [
    "df"
   ]
  },
  {
   "cell_type": "code",
   "execution_count": 4,
   "metadata": {},
   "outputs": [
    {
     "data": {
      "text/plain": [
       "(104345, 23)"
      ]
     },
     "execution_count": 4,
     "metadata": {},
     "output_type": "execute_result"
    }
   ],
   "source": [
    "df.shape"
   ]
  },
  {
   "cell_type": "code",
   "execution_count": 5,
   "metadata": {},
   "outputs": [
    {
     "name": "stdout",
     "output_type": "stream",
     "text": [
      "<class 'pandas.core.frame.DataFrame'>\n",
      "RangeIndex: 104345 entries, 0 to 104344\n",
      "Data columns (total 23 columns):\n",
      " #   Column       Non-Null Count   Dtype  \n",
      "---  ------       --------------   -----  \n",
      " 0   dt           104345 non-null  int64  \n",
      " 1   switch       104345 non-null  int64  \n",
      " 2   src          104345 non-null  object \n",
      " 3   dst          104345 non-null  object \n",
      " 4   pktcount     104345 non-null  int64  \n",
      " 5   bytecount    104345 non-null  int64  \n",
      " 6   dur          104345 non-null  int64  \n",
      " 7   dur_nsec     104345 non-null  int64  \n",
      " 8   tot_dur      104345 non-null  float64\n",
      " 9   flows        104345 non-null  int64  \n",
      " 10  packetins    104345 non-null  int64  \n",
      " 11  pktperflow   104345 non-null  int64  \n",
      " 12  byteperflow  104345 non-null  int64  \n",
      " 13  pktrate      104345 non-null  int64  \n",
      " 14  Pairflow     104345 non-null  int64  \n",
      " 15  Protocol     104345 non-null  object \n",
      " 16  port_no      104345 non-null  int64  \n",
      " 17  tx_bytes     104345 non-null  int64  \n",
      " 18  rx_bytes     104345 non-null  int64  \n",
      " 19  tx_kbps      104345 non-null  int64  \n",
      " 20  rx_kbps      103839 non-null  float64\n",
      " 21  tot_kbps     103839 non-null  float64\n",
      " 22  label        104345 non-null  int64  \n",
      "dtypes: float64(3), int64(17), object(3)\n",
      "memory usage: 18.3+ MB\n"
     ]
    }
   ],
   "source": [
    "df.info()"
   ]
  },
  {
   "cell_type": "code",
   "execution_count": 6,
   "metadata": {},
   "outputs": [
    {
     "data": {
      "text/plain": [
       "array([0, 1], dtype=int64)"
      ]
     },
     "execution_count": 6,
     "metadata": {},
     "output_type": "execute_result"
    }
   ],
   "source": [
    "df.label.unique()"
   ]
  },
  {
   "cell_type": "code",
   "execution_count": 7,
   "metadata": {},
   "outputs": [
    {
     "data": {
      "text/plain": [
       "0    63561\n",
       "1    40784\n",
       "Name: label, dtype: int64"
      ]
     },
     "execution_count": 7,
     "metadata": {},
     "output_type": "execute_result"
    }
   ],
   "source": [
    "df.label.value_counts()\n"
   ]
  },
  {
   "cell_type": "code",
   "execution_count": 8,
   "metadata": {},
   "outputs": [
    {
     "data": {
      "text/plain": [
       "<matplotlib.axes._subplots.AxesSubplot at 0x2e3b445cf40>"
      ]
     },
     "execution_count": 8,
     "metadata": {},
     "output_type": "execute_result"
    },
    {
     "data": {
      "image/png": "[encoded data removed]",
      "text/plain": [
       "<Figure size 432x288 with 1 Axes>"
      ]
     },
     "metadata": {
      "needs_background": "light"
     },
     "output_type": "display_data"
    }
   ],
   "source": [
    "label_dict = dict(df.label.value_counts())\n",
    "sns.countplot(df.label)"
   ]
  },
  {
   "cell_type": "code",
   "execution_count": 110,
   "metadata": {},
   "outputs": [
    {
     "data": {
      "image/png": "[encoded data removed]",
      "text/plain": [
       "<Figure size 936x576 with 1 Axes>"
      ]
     },
     "metadata": {},
     "output_type": "display_data"
    }
   ],
   "source": [
    "labels = [\"Maliciuous\",'Benign']\n",
    "sizes = [dict(df.label.value_counts())[1], dict(df.label.value_counts())[0]]\n",
    "plt.figure(figsize = (13,8))\n",
    "plt.pie(sizes, labels=labels, autopct='%1.1f%%',\n",
    "        shadow=True, startangle=90)\n",
    "plt.legend([\"Maliciuous\", \"Benign\"])\n",
    "plt.title('The percentage of Benign and Maliciuos Requests in dataset')\n",
    "plt.savefig(\"DDos_dataset.jpg\")\n",
    "plt.show()\n"
   ]
  },
  {
   "cell_type": "code",
   "execution_count": 10,
   "metadata": {},
   "outputs": [
    {
     "data": {
      "text/html": [
       "<div>\n",
       "<style scoped>\n",
       "    .dataframe tbody tr th:only-of-type {\n",
       "        vertical-align: middle;\n",
       "    }\n",
       "\n",
       "    .dataframe tbody tr th {\n",
       "        vertical-align: top;\n",
       "    }\n",
       "\n",
       "    .dataframe thead th {\n",
       "        text-align: right;\n",
       "    }\n",
       "</style>\n",
       "<table border=\"1\" class=\"dataframe\">\n",
       "  <thead>\n",
       "    <tr style=\"text-align: right;\">\n",
       "      <th></th>\n",
       "      <th>dt</th>\n",
       "      <th>switch</th>\n",
       "      <th>pktcount</th>\n",
       "      <th>bytecount</th>\n",
       "      <th>dur</th>\n",
       "      <th>dur_nsec</th>\n",
       "      <th>tot_dur</th>\n",
       "      <th>flows</th>\n",
       "      <th>packetins</th>\n",
       "      <th>pktperflow</th>\n",
       "      <th>byteperflow</th>\n",
       "      <th>pktrate</th>\n",
       "      <th>Pairflow</th>\n",
       "      <th>port_no</th>\n",
       "      <th>tx_bytes</th>\n",
       "      <th>rx_bytes</th>\n",
       "      <th>tx_kbps</th>\n",
       "      <th>rx_kbps</th>\n",
       "      <th>tot_kbps</th>\n",
       "      <th>label</th>\n",
       "    </tr>\n",
       "  </thead>\n",
       "  <tbody>\n",
       "    <tr>\n",
       "      <th>count</th>\n",
       "      <td>104345.000000</td>\n",
       "      <td>104345.000000</td>\n",
       "      <td>104345.000000</td>\n",
       "      <td>1.043450e+05</td>\n",
       "      <td>104345.000000</td>\n",
       "      <td>1.043450e+05</td>\n",
       "      <td>1.043450e+05</td>\n",
       "      <td>104345.000000</td>\n",
       "      <td>104345.000000</td>\n",
       "      <td>104345.000000</td>\n",
       "      <td>1.043450e+05</td>\n",
       "      <td>104345.000000</td>\n",
       "      <td>104345.000000</td>\n",
       "      <td>104345.000000</td>\n",
       "      <td>1.043450e+05</td>\n",
       "      <td>1.043450e+05</td>\n",
       "      <td>104345.000000</td>\n",
       "      <td>103839.000000</td>\n",
       "      <td>103839.000000</td>\n",
       "      <td>104345.000000</td>\n",
       "    </tr>\n",
       "    <tr>\n",
       "      <th>mean</th>\n",
       "      <td>17927.514169</td>\n",
       "      <td>4.214260</td>\n",
       "      <td>52860.954746</td>\n",
       "      <td>3.818660e+07</td>\n",
       "      <td>321.497398</td>\n",
       "      <td>4.613880e+08</td>\n",
       "      <td>3.218865e+11</td>\n",
       "      <td>5.654234</td>\n",
       "      <td>5200.383468</td>\n",
       "      <td>6381.715291</td>\n",
       "      <td>4.716150e+06</td>\n",
       "      <td>212.210676</td>\n",
       "      <td>0.600987</td>\n",
       "      <td>2.331094</td>\n",
       "      <td>9.325264e+07</td>\n",
       "      <td>9.328039e+07</td>\n",
       "      <td>998.899756</td>\n",
       "      <td>1003.811420</td>\n",
       "      <td>2007.578742</td>\n",
       "      <td>0.390857</td>\n",
       "    </tr>\n",
       "    <tr>\n",
       "      <th>std</th>\n",
       "      <td>11977.642655</td>\n",
       "      <td>1.956327</td>\n",
       "      <td>52023.241460</td>\n",
       "      <td>4.877748e+07</td>\n",
       "      <td>283.518232</td>\n",
       "      <td>2.770019e+08</td>\n",
       "      <td>2.834029e+11</td>\n",
       "      <td>2.950036</td>\n",
       "      <td>5257.001450</td>\n",
       "      <td>7404.777808</td>\n",
       "      <td>7.560116e+06</td>\n",
       "      <td>246.855123</td>\n",
       "      <td>0.489698</td>\n",
       "      <td>1.084333</td>\n",
       "      <td>1.519380e+08</td>\n",
       "      <td>1.330004e+08</td>\n",
       "      <td>2423.471618</td>\n",
       "      <td>2054.887034</td>\n",
       "      <td>3144.437173</td>\n",
       "      <td>0.487945</td>\n",
       "    </tr>\n",
       "    <tr>\n",
       "      <th>min</th>\n",
       "      <td>2488.000000</td>\n",
       "      <td>1.000000</td>\n",
       "      <td>0.000000</td>\n",
       "      <td>0.000000e+00</td>\n",
       "      <td>0.000000</td>\n",
       "      <td>0.000000e+00</td>\n",
       "      <td>0.000000e+00</td>\n",
       "      <td>2.000000</td>\n",
       "      <td>4.000000</td>\n",
       "      <td>-130933.000000</td>\n",
       "      <td>-1.464426e+08</td>\n",
       "      <td>-4365.000000</td>\n",
       "      <td>0.000000</td>\n",
       "      <td>1.000000</td>\n",
       "      <td>2.527000e+03</td>\n",
       "      <td>8.560000e+02</td>\n",
       "      <td>0.000000</td>\n",
       "      <td>0.000000</td>\n",
       "      <td>0.000000</td>\n",
       "      <td>0.000000</td>\n",
       "    </tr>\n",
       "    <tr>\n",
       "      <th>25%</th>\n",
       "      <td>7098.000000</td>\n",
       "      <td>3.000000</td>\n",
       "      <td>808.000000</td>\n",
       "      <td>7.957600e+04</td>\n",
       "      <td>127.000000</td>\n",
       "      <td>2.340000e+08</td>\n",
       "      <td>1.270000e+11</td>\n",
       "      <td>3.000000</td>\n",
       "      <td>1943.000000</td>\n",
       "      <td>29.000000</td>\n",
       "      <td>2.842000e+03</td>\n",
       "      <td>0.000000</td>\n",
       "      <td>0.000000</td>\n",
       "      <td>1.000000</td>\n",
       "      <td>4.743000e+03</td>\n",
       "      <td>3.539000e+03</td>\n",
       "      <td>0.000000</td>\n",
       "      <td>0.000000</td>\n",
       "      <td>0.000000</td>\n",
       "      <td>0.000000</td>\n",
       "    </tr>\n",
       "    <tr>\n",
       "      <th>50%</th>\n",
       "      <td>11905.000000</td>\n",
       "      <td>4.000000</td>\n",
       "      <td>42828.000000</td>\n",
       "      <td>6.471930e+06</td>\n",
       "      <td>251.000000</td>\n",
       "      <td>4.180000e+08</td>\n",
       "      <td>2.520000e+11</td>\n",
       "      <td>5.000000</td>\n",
       "      <td>3024.000000</td>\n",
       "      <td>8305.000000</td>\n",
       "      <td>5.521680e+05</td>\n",
       "      <td>276.000000</td>\n",
       "      <td>1.000000</td>\n",
       "      <td>2.000000</td>\n",
       "      <td>4.219610e+06</td>\n",
       "      <td>1.338339e+07</td>\n",
       "      <td>0.000000</td>\n",
       "      <td>0.000000</td>\n",
       "      <td>4.000000</td>\n",
       "      <td>0.000000</td>\n",
       "    </tr>\n",
       "    <tr>\n",
       "      <th>75%</th>\n",
       "      <td>29952.000000</td>\n",
       "      <td>5.000000</td>\n",
       "      <td>94796.000000</td>\n",
       "      <td>7.620354e+07</td>\n",
       "      <td>412.000000</td>\n",
       "      <td>7.030000e+08</td>\n",
       "      <td>4.130000e+11</td>\n",
       "      <td>7.000000</td>\n",
       "      <td>7462.000000</td>\n",
       "      <td>10017.000000</td>\n",
       "      <td>9.728112e+06</td>\n",
       "      <td>333.000000</td>\n",
       "      <td>1.000000</td>\n",
       "      <td>3.000000</td>\n",
       "      <td>1.356398e+08</td>\n",
       "      <td>1.439277e+08</td>\n",
       "      <td>251.000000</td>\n",
       "      <td>557.000000</td>\n",
       "      <td>3838.000000</td>\n",
       "      <td>1.000000</td>\n",
       "    </tr>\n",
       "    <tr>\n",
       "      <th>max</th>\n",
       "      <td>42935.000000</td>\n",
       "      <td>10.000000</td>\n",
       "      <td>260006.000000</td>\n",
       "      <td>1.471280e+08</td>\n",
       "      <td>1881.000000</td>\n",
       "      <td>9.990000e+08</td>\n",
       "      <td>1.880000e+12</td>\n",
       "      <td>17.000000</td>\n",
       "      <td>25224.000000</td>\n",
       "      <td>19190.000000</td>\n",
       "      <td>1.495387e+07</td>\n",
       "      <td>639.000000</td>\n",
       "      <td>1.000000</td>\n",
       "      <td>5.000000</td>\n",
       "      <td>1.269982e+09</td>\n",
       "      <td>9.905962e+08</td>\n",
       "      <td>20580.000000</td>\n",
       "      <td>16577.000000</td>\n",
       "      <td>20580.000000</td>\n",
       "      <td>1.000000</td>\n",
       "    </tr>\n",
       "  </tbody>\n",
       "</table>\n",
       "</div>"
      ],
      "text/plain": [
       "                  dt         switch       pktcount     bytecount  \\\n",
       "count  104345.000000  104345.000000  104345.000000  1.043450e+05   \n",
       "mean    17927.514169       4.214260   52860.954746  3.818660e+07   \n",
       "std     11977.642655       1.956327   52023.241460  4.877748e+07   \n",
       "min      2488.000000       1.000000       0.000000  0.000000e+00   \n",
       "25%      7098.000000       3.000000     808.000000  7.957600e+04   \n",
       "50%     11905.000000       4.000000   42828.000000  6.471930e+06   \n",
       "75%     29952.000000       5.000000   94796.000000  7.620354e+07   \n",
       "max     42935.000000      10.000000  260006.000000  1.471280e+08   \n",
       "\n",
       "                 dur      dur_nsec       tot_dur          flows  \\\n",
       "count  104345.000000  1.043450e+05  1.043450e+05  104345.000000   \n",
       "mean      321.497398  4.613880e+08  3.218865e+11       5.654234   \n",
       "std       283.518232  2.770019e+08  2.834029e+11       2.950036   \n",
       "min         0.000000  0.000000e+00  0.000000e+00       2.000000   \n",
       "25%       127.000000  2.340000e+08  1.270000e+11       3.000000   \n",
       "50%       251.000000  4.180000e+08  2.520000e+11       5.000000   \n",
       "75%       412.000000  7.030000e+08  4.130000e+11       7.000000   \n",
       "max      1881.000000  9.990000e+08  1.880000e+12      17.000000   \n",
       "\n",
       "           packetins     pktperflow   byteperflow        pktrate  \\\n",
       "count  104345.000000  104345.000000  1.043450e+05  104345.000000   \n",
       "mean     5200.383468    6381.715291  4.716150e+06     212.210676   \n",
       "std      5257.001450    7404.777808  7.560116e+06     246.855123   \n",
       "min         4.000000 -130933.000000 -1.464426e+08   -4365.000000   \n",
       "25%      1943.000000      29.000000  2.842000e+03       0.000000   \n",
       "50%      3024.000000    8305.000000  5.521680e+05     276.000000   \n",
       "75%      7462.000000   10017.000000  9.728112e+06     333.000000   \n",
       "max     25224.000000   19190.000000  1.495387e+07     639.000000   \n",
       "\n",
       "            Pairflow        port_no      tx_bytes      rx_bytes  \\\n",
       "count  104345.000000  104345.000000  1.043450e+05  1.043450e+05   \n",
       "mean        0.600987       2.331094  9.325264e+07  9.328039e+07   \n",
       "std         0.489698       1.084333  1.519380e+08  1.330004e+08   \n",
       "min         0.000000       1.000000  2.527000e+03  8.560000e+02   \n",
       "25%         0.000000       1.000000  4.743000e+03  3.539000e+03   \n",
       "50%         1.000000       2.000000  4.219610e+06  1.338339e+07   \n",
       "75%         1.000000       3.000000  1.356398e+08  1.439277e+08   \n",
       "max         1.000000       5.000000  1.269982e+09  9.905962e+08   \n",
       "\n",
       "             tx_kbps        rx_kbps       tot_kbps          label  \n",
       "count  104345.000000  103839.000000  103839.000000  104345.000000  \n",
       "mean      998.899756    1003.811420    2007.578742       0.390857  \n",
       "std      2423.471618    2054.887034    3144.437173       0.487945  \n",
       "min         0.000000       0.000000       0.000000       0.000000  \n",
       "25%         0.000000       0.000000       0.000000       0.000000  \n",
       "50%         0.000000       0.000000       4.000000       0.000000  \n",
       "75%       251.000000     557.000000    3838.000000       1.000000  \n",
       "max     20580.000000   16577.000000   20580.000000       1.000000  "
      ]
     },
     "execution_count": 10,
     "metadata": {},
     "output_type": "execute_result"
    }
   ],
   "source": [
    "df.describe()"
   ]
  },
  {
   "cell_type": "code",
   "execution_count": 11,
   "metadata": {},
   "outputs": [
    {
     "data": {
      "text/plain": [
       "Text(0.5, 1.0, 'Features which has NuLL values')"
      ]
     },
     "execution_count": 11,
     "metadata": {},
     "output_type": "execute_result"
    },
    {
     "data": {
      "image/png": "[encoded data removed]",
      "text/plain": [
       "<Figure size 720x400 with 1 Axes>"
      ]
     },
     "metadata": {
      "needs_background": "light"
     },
     "output_type": "display_data"
    }
   ],
   "source": [
    "figure(figsize=(9, 5), dpi=80)\n",
    "df[df.columns[df.isna().sum() >= 0]].isna().sum().sort_values().plot.bar()\n",
    "plt.title(\"Features which has NuLL values\")"
   ]
  },
  {
   "cell_type": "code",
   "execution_count": 12,
   "metadata": {},
   "outputs": [
    {
     "data": {
      "text/plain": [
       "dt               0\n",
       "switch           0\n",
       "src              0\n",
       "dst              0\n",
       "pktcount         0\n",
       "bytecount        0\n",
       "dur              0\n",
       "dur_nsec         0\n",
       "tot_dur          0\n",
       "flows            0\n",
       "packetins        0\n",
       "pktperflow       0\n",
       "byteperflow      0\n",
       "pktrate          0\n",
       "Pairflow         0\n",
       "Protocol         0\n",
       "port_no          0\n",
       "tx_bytes         0\n",
       "rx_bytes         0\n",
       "tx_kbps          0\n",
       "rx_kbps        506\n",
       "tot_kbps       506\n",
       "label            0\n",
       "dtype: int64"
      ]
     },
     "execution_count": 12,
     "metadata": {},
     "output_type": "execute_result"
    }
   ],
   "source": [
    "df.isnull().sum()"
   ]
  },
  {
   "cell_type": "code",
   "execution_count": 13,
   "metadata": {},
   "outputs": [
    {
     "name": "stdout",
     "output_type": "stream",
     "text": [
      "Numeric Columns: \n",
      "Index(['dt', 'switch', 'pktcount', 'bytecount', 'dur', 'dur_nsec', 'tot_dur',\n",
      "       'flows', 'packetins', 'pktperflow', 'byteperflow', 'pktrate',\n",
      "       'Pairflow', 'port_no', 'tx_bytes', 'rx_bytes', 'tx_kbps', 'rx_kbps',\n",
      "       'tot_kbps', 'label'],\n",
      "      dtype='object') \n",
      "\n",
      "Object Columns: \n",
      "Index(['src', 'dst', 'Protocol'], dtype='object') \n",
      "\n",
      "Number of Numeric Features:  20\n",
      "Number of Object Features:  3\n"
     ]
    }
   ],
   "source": [
    "numeric_df = df.select_dtypes(include=['int64', 'float64'])\n",
    "object_df = df.select_dtypes(include=['object'])\n",
    "numeric_cols = numeric_df.columns\n",
    "object_cols = object_df.columns\n",
    "print('Numeric Columns: ')\n",
    "print(numeric_cols, '\\n')\n",
    "print('Object Columns: ')\n",
    "print(object_cols, '\\n')\n",
    "print('Number of Numeric Features: ', len(numeric_cols))\n",
    "print('Number of Object Features: ', len(object_cols))"
   ]
  },
  {
   "cell_type": "code",
   "execution_count": 14,
   "metadata": {},
   "outputs": [
    {
     "data": {
      "text/html": [
       "<div>\n",
       "<style scoped>\n",
       "    .dataframe tbody tr th:only-of-type {\n",
       "        vertical-align: middle;\n",
       "    }\n",
       "\n",
       "    .dataframe tbody tr th {\n",
       "        vertical-align: top;\n",
       "    }\n",
       "\n",
       "    .dataframe thead th {\n",
       "        text-align: right;\n",
       "    }\n",
       "</style>\n",
       "<table border=\"1\" class=\"dataframe\">\n",
       "  <thead>\n",
       "    <tr style=\"text-align: right;\">\n",
       "      <th></th>\n",
       "      <th>src</th>\n",
       "      <th>dst</th>\n",
       "      <th>Protocol</th>\n",
       "    </tr>\n",
       "  </thead>\n",
       "  <tbody>\n",
       "    <tr>\n",
       "      <th>0</th>\n",
       "      <td>10.0.0.1</td>\n",
       "      <td>10.0.0.8</td>\n",
       "      <td>UDP</td>\n",
       "    </tr>\n",
       "    <tr>\n",
       "      <th>1</th>\n",
       "      <td>10.0.0.1</td>\n",
       "      <td>10.0.0.8</td>\n",
       "      <td>UDP</td>\n",
       "    </tr>\n",
       "    <tr>\n",
       "      <th>2</th>\n",
       "      <td>10.0.0.2</td>\n",
       "      <td>10.0.0.8</td>\n",
       "      <td>UDP</td>\n",
       "    </tr>\n",
       "    <tr>\n",
       "      <th>3</th>\n",
       "      <td>10.0.0.2</td>\n",
       "      <td>10.0.0.8</td>\n",
       "      <td>UDP</td>\n",
       "    </tr>\n",
       "    <tr>\n",
       "      <th>4</th>\n",
       "      <td>10.0.0.2</td>\n",
       "      <td>10.0.0.8</td>\n",
       "      <td>UDP</td>\n",
       "    </tr>\n",
       "  </tbody>\n",
       "</table>\n",
       "</div>"
      ],
      "text/plain": [
       "        src       dst Protocol\n",
       "0  10.0.0.1  10.0.0.8      UDP\n",
       "1  10.0.0.1  10.0.0.8      UDP\n",
       "2  10.0.0.2  10.0.0.8      UDP\n",
       "3  10.0.0.2  10.0.0.8      UDP\n",
       "4  10.0.0.2  10.0.0.8      UDP"
      ]
     },
     "execution_count": 14,
     "metadata": {},
     "output_type": "execute_result"
    }
   ],
   "source": [
    "object_df.head()"
   ]
  },
  {
   "cell_type": "code",
   "execution_count": 15,
   "metadata": {},
   "outputs": [
    {
     "data": {
      "text/plain": [
       "Text(0.5, 1.0, 'Number of all reqests')"
      ]
     },
     "execution_count": 15,
     "metadata": {},
     "output_type": "execute_result"
    },
    {
     "data": {
      "image/png": "[encoded data removed]",
      "text/plain": [
       "<Figure size 1120x800 with 1 Axes>"
      ]
     },
     "metadata": {
      "needs_background": "light"
     },
     "output_type": "display_data"
    }
   ],
   "source": [
    "#### Let's look at Oblect columns (Source Destination Protocol)\n",
    "\n",
    "figure(figsize=(14, 10), dpi=80)\n",
    "plt.barh(list(dict(df.src.value_counts()).keys()), dict(df.src.value_counts()).values(), color='lawngreen')\n",
    "\n",
    "for idx, val in enumerate(dict(df.src.value_counts()).values()):\n",
    "    plt.text(x = val, y = idx-0.2, s = str(val), color='r', size = 12)\n",
    "\n",
    "plt.xlabel('Number of Requests')\n",
    "plt.ylabel('IP addres of sender')\n",
    "plt.title('Number of all reqests')"
   ]
  },
  {
   "cell_type": "code",
   "execution_count": 16,
   "metadata": {},
   "outputs": [
    {
     "data": {
      "text/plain": [
       "Text(0.5, 1.0, 'Number of Attack requests')"
      ]
     },
     "execution_count": 16,
     "metadata": {},
     "output_type": "execute_result"
    },
    {
     "data": {
      "image/png": "[encoded data removed]",
      "text/plain": [
       "<Figure size 960x560 with 1 Axes>"
      ]
     },
     "metadata": {
      "needs_background": "light"
     },
     "output_type": "display_data"
    }
   ],
   "source": [
    "figure(figsize=(12, 7), dpi=80)\n",
    "plt.barh(list(dict(df[df.label == 1].src.value_counts()).keys()), dict(df[df.label == 1].src.value_counts()).values(), color='blue')\n",
    "\n",
    "for idx, val in enumerate(dict(df[df.label == 1].src.value_counts()).values()):\n",
    "    plt.text(x = val, y = idx-0.2, s = str(val), color='r', size = 13)\n",
    "\n",
    "plt.xlabel('Number of Requests')\n",
    "plt.ylabel('IP addres of sender')\n",
    "plt.title('Number of Attack requests')"
   ]
  },
  {
   "cell_type": "code",
   "execution_count": 17,
   "metadata": {},
   "outputs": [
    {
     "data": {
      "text/plain": [
       "Text(0.5, 1.0, 'Number of requests from different IP adress')"
      ]
     },
     "execution_count": 17,
     "metadata": {},
     "output_type": "execute_result"
    },
    {
     "data": {
      "image/png": "[encoded data removed]",
      "text/plain": [
       "<Figure size 1200x640 with 1 Axes>"
      ]
     },
     "metadata": {
      "needs_background": "light"
     },
     "output_type": "display_data"
    }
   ],
   "source": [
    "figure(figsize=(15, 8), dpi=80)\n",
    "plt.barh(list(dict(df.src.value_counts()).keys()), dict(df.src.value_counts()).values(), color='lawngreen')\n",
    "plt.barh(list(dict(df[df.label == 1].src.value_counts()).keys()), dict(df[df.label == 1].src.value_counts()).values(), color='blue')\n",
    "\n",
    "for idx, val in enumerate(dict(df.src.value_counts()).values()):\n",
    "    plt.text(x = val, y = idx-0.2, s = str(val), color='r', size = 13)\n",
    "\n",
    "for idx, val in enumerate(dict(df[df.label == 1].src.value_counts()).values()):\n",
    "    plt.text(x = val, y = idx-0.2, s = str(val), color='w', size = 13)\n",
    "\n",
    "\n",
    "plt.xlabel('Number of Requests')\n",
    "plt.ylabel('IP addres of sender')\n",
    "plt.legend(['All','malicious'])\n",
    "plt.title('Number of requests from different IP adress')"
   ]
  },
  {
   "cell_type": "code",
   "execution_count": 106,
   "metadata": {},
   "outputs": [
    {
     "data": {
      "image/png": "[encoded data removed]",
      "text/plain": [
       "<Figure size 800x480 with 1 Axes>"
      ]
     },
     "metadata": {
      "needs_background": "light"
     },
     "output_type": "display_data"
    }
   ],
   "source": [
    "figure(figsize=(10, 6), dpi=80)\n",
    "plt.bar(list(dict(df.Protocol.value_counts()).keys()), dict(df.Protocol.value_counts()).values(), color='r')\n",
    "plt.bar(list(dict(df[df.label == 1].Protocol.value_counts()).keys()), dict(df[df.label == 1].Protocol.value_counts()).values(), color='b')\n",
    "\n",
    "plt.text(x = 0 - 0.15, y = 41321 + 200, s = str(41321), color='black', size=17)\n",
    "plt.text(x = 1 - 0.15, y = 33588 + 200, s = str(33588), color='black', size=17)\n",
    "plt.text(x = 2 - 0.15, y = 29436 + 200, s = str(29436), color='black', size=17)\n",
    "\n",
    "plt.text(x = 0 - 0.15, y = 9419 + 200, s = str(9419), color='w', size=17)\n",
    "plt.text(x = 1 - 0.15, y = 17499 + 200, s = str(17499), color='w', size=17)\n",
    "plt.text(x = 2 - 0.15, y = 13866 + 200, s = str(13866), color='w', size=17)\n",
    "\n",
    "plt.xlabel('Protocol')\n",
    "plt.ylabel('Count')\n",
    "plt.legend(['All', 'malicious'])\n",
    "plt.title('The number of requests from different protocols')\n",
    "plt.savefig(\"requests_from_different_protocols.jpg\")"
   ]
  },
  {
   "cell_type": "code",
   "execution_count": 19,
   "metadata": {},
   "outputs": [],
   "source": [
    "new_df = df.copy()"
   ]
  },
  {
   "cell_type": "code",
   "execution_count": 20,
   "metadata": {},
   "outputs": [
    {
     "data": {
      "image/png": "[encoded data removed]",
      "text/plain": [
       "<Figure size 640x320 with 1 Axes>"
      ]
     },
     "metadata": {
      "needs_background": "light"
     },
     "output_type": "display_data"
    }
   ],
   "source": [
    "figure(figsize=(8, 4), dpi=80)\n",
    "plt.hist(new_df.dur, bins=20, color='b')\n",
    "plt.title('Duration')\n",
    "plt.show()"
   ]
  },
  {
   "cell_type": "code",
   "execution_count": 21,
   "metadata": {},
   "outputs": [
    {
     "data": {
      "image/png": "[encoded data removed]",
      "text/plain": [
       "<Figure size 640x320 with 1 Axes>"
      ]
     },
     "metadata": {
      "needs_background": "light"
     },
     "output_type": "display_data"
    }
   ],
   "source": [
    "figure(figsize=(8, 4), dpi=80)\n",
    "plt.hist(new_df.tx_bytes, bins=20, color='r')\n",
    "plt.title('TX_BYTES - Transmitted Bytes')\n",
    "plt.show()"
   ]
  },
  {
   "cell_type": "code",
   "execution_count": 22,
   "metadata": {},
   "outputs": [
    {
     "data": {
      "image/png": "[encoded data removed]",
      "text/plain": [
       "<Figure size 640x320 with 1 Axes>"
      ]
     },
     "metadata": {
      "needs_background": "light"
     },
     "output_type": "display_data"
    }
   ],
   "source": [
    "figure(figsize=(8, 4), dpi=80)\n",
    "plt.hist(new_df.tx_kbps, bins=10, color='g')\n",
    "plt.title('TX_KBPC')\n",
    "plt.show()"
   ]
  },
  {
   "cell_type": "code",
   "execution_count": 23,
   "metadata": {},
   "outputs": [
    {
     "data": {
      "image/png": "[encoded data removed]",
      "text/plain": [
       "<Figure size 432x288 with 1 Axes>"
      ]
     },
     "metadata": {
      "needs_background": "light"
     },
     "output_type": "display_data"
    }
   ],
   "source": [
    "plt.hist(new_df.switch, bins=20, color='r')\n",
    "plt.title('SWITCH')\n",
    "plt.xlabel('SWITCH')\n",
    "plt.show()"
   ]
  },
  {
   "cell_type": "code",
   "execution_count": 24,
   "metadata": {},
   "outputs": [
    {
     "data": {
      "image/png": "[encoded data removed]",
      "text/plain": [
       "<Figure size 432x288 with 1 Axes>"
      ]
     },
     "metadata": {
      "needs_background": "light"
     },
     "output_type": "display_data"
    }
   ],
   "source": [
    "plt.hist(new_df[new_df['label'] == 1].switch, bins=20, color='r')\n",
    "plt.title('SWITCH')\n",
    "plt.xlabel('SWITCH')\n",
    "plt.show()"
   ]
  },
  {
   "cell_type": "code",
   "execution_count": 25,
   "metadata": {},
   "outputs": [
    {
     "data": {
      "text/html": [
       "<div>\n",
       "<style scoped>\n",
       "    .dataframe tbody tr th:only-of-type {\n",
       "        vertical-align: middle;\n",
       "    }\n",
       "\n",
       "    .dataframe tbody tr th {\n",
       "        vertical-align: top;\n",
       "    }\n",
       "\n",
       "    .dataframe thead th {\n",
       "        text-align: right;\n",
       "    }\n",
       "</style>\n",
       "<table border=\"1\" class=\"dataframe\">\n",
       "  <thead>\n",
       "    <tr style=\"text-align: right;\">\n",
       "      <th></th>\n",
       "      <th>switch</th>\n",
       "      <th>pktcount</th>\n",
       "      <th>bytecount</th>\n",
       "      <th>dur</th>\n",
       "      <th>dur_nsec</th>\n",
       "      <th>tot_dur</th>\n",
       "      <th>flows</th>\n",
       "      <th>packetins</th>\n",
       "      <th>pktperflow</th>\n",
       "      <th>byteperflow</th>\n",
       "      <th>pktrate</th>\n",
       "      <th>Pairflow</th>\n",
       "      <th>Protocol</th>\n",
       "      <th>port_no</th>\n",
       "      <th>tx_bytes</th>\n",
       "      <th>rx_bytes</th>\n",
       "      <th>tx_kbps</th>\n",
       "      <th>rx_kbps</th>\n",
       "      <th>tot_kbps</th>\n",
       "      <th>label</th>\n",
       "    </tr>\n",
       "  </thead>\n",
       "  <tbody>\n",
       "    <tr>\n",
       "      <th>0</th>\n",
       "      <td>1</td>\n",
       "      <td>45304</td>\n",
       "      <td>48294064</td>\n",
       "      <td>100</td>\n",
       "      <td>716000000</td>\n",
       "      <td>1.010000e+11</td>\n",
       "      <td>3</td>\n",
       "      <td>1943</td>\n",
       "      <td>13535</td>\n",
       "      <td>14428310</td>\n",
       "      <td>451</td>\n",
       "      <td>0</td>\n",
       "      <td>UDP</td>\n",
       "      <td>3</td>\n",
       "      <td>143928631</td>\n",
       "      <td>3917</td>\n",
       "      <td>0</td>\n",
       "      <td>0.0</td>\n",
       "      <td>0.0</td>\n",
       "      <td>0</td>\n",
       "    </tr>\n",
       "    <tr>\n",
       "      <th>1</th>\n",
       "      <td>1</td>\n",
       "      <td>126395</td>\n",
       "      <td>134737070</td>\n",
       "      <td>280</td>\n",
       "      <td>734000000</td>\n",
       "      <td>2.810000e+11</td>\n",
       "      <td>2</td>\n",
       "      <td>1943</td>\n",
       "      <td>13531</td>\n",
       "      <td>14424046</td>\n",
       "      <td>451</td>\n",
       "      <td>0</td>\n",
       "      <td>UDP</td>\n",
       "      <td>4</td>\n",
       "      <td>3842</td>\n",
       "      <td>3520</td>\n",
       "      <td>0</td>\n",
       "      <td>0.0</td>\n",
       "      <td>0.0</td>\n",
       "      <td>0</td>\n",
       "    </tr>\n",
       "    <tr>\n",
       "      <th>2</th>\n",
       "      <td>1</td>\n",
       "      <td>90333</td>\n",
       "      <td>96294978</td>\n",
       "      <td>200</td>\n",
       "      <td>744000000</td>\n",
       "      <td>2.010000e+11</td>\n",
       "      <td>3</td>\n",
       "      <td>1943</td>\n",
       "      <td>13534</td>\n",
       "      <td>14427244</td>\n",
       "      <td>451</td>\n",
       "      <td>0</td>\n",
       "      <td>UDP</td>\n",
       "      <td>1</td>\n",
       "      <td>3795</td>\n",
       "      <td>1242</td>\n",
       "      <td>0</td>\n",
       "      <td>0.0</td>\n",
       "      <td>0.0</td>\n",
       "      <td>0</td>\n",
       "    </tr>\n",
       "    <tr>\n",
       "      <th>3</th>\n",
       "      <td>1</td>\n",
       "      <td>90333</td>\n",
       "      <td>96294978</td>\n",
       "      <td>200</td>\n",
       "      <td>744000000</td>\n",
       "      <td>2.010000e+11</td>\n",
       "      <td>3</td>\n",
       "      <td>1943</td>\n",
       "      <td>13534</td>\n",
       "      <td>14427244</td>\n",
       "      <td>451</td>\n",
       "      <td>0</td>\n",
       "      <td>UDP</td>\n",
       "      <td>2</td>\n",
       "      <td>3688</td>\n",
       "      <td>1492</td>\n",
       "      <td>0</td>\n",
       "      <td>0.0</td>\n",
       "      <td>0.0</td>\n",
       "      <td>0</td>\n",
       "    </tr>\n",
       "    <tr>\n",
       "      <th>4</th>\n",
       "      <td>1</td>\n",
       "      <td>90333</td>\n",
       "      <td>96294978</td>\n",
       "      <td>200</td>\n",
       "      <td>744000000</td>\n",
       "      <td>2.010000e+11</td>\n",
       "      <td>3</td>\n",
       "      <td>1943</td>\n",
       "      <td>13534</td>\n",
       "      <td>14427244</td>\n",
       "      <td>451</td>\n",
       "      <td>0</td>\n",
       "      <td>UDP</td>\n",
       "      <td>3</td>\n",
       "      <td>3413</td>\n",
       "      <td>3665</td>\n",
       "      <td>0</td>\n",
       "      <td>0.0</td>\n",
       "      <td>0.0</td>\n",
       "      <td>0</td>\n",
       "    </tr>\n",
       "  </tbody>\n",
       "</table>\n",
       "</div>"
      ],
      "text/plain": [
       "   switch  pktcount  bytecount  dur   dur_nsec       tot_dur  flows  \\\n",
       "0       1     45304   48294064  100  716000000  1.010000e+11      3   \n",
       "1       1    126395  134737070  280  734000000  2.810000e+11      2   \n",
       "2       1     90333   96294978  200  744000000  2.010000e+11      3   \n",
       "3       1     90333   96294978  200  744000000  2.010000e+11      3   \n",
       "4       1     90333   96294978  200  744000000  2.010000e+11      3   \n",
       "\n",
       "   packetins  pktperflow  byteperflow  pktrate  Pairflow Protocol  port_no  \\\n",
       "0       1943       13535     14428310      451         0      UDP        3   \n",
       "1       1943       13531     14424046      451         0      UDP        4   \n",
       "2       1943       13534     14427244      451         0      UDP        1   \n",
       "3       1943       13534     14427244      451         0      UDP        2   \n",
       "4       1943       13534     14427244      451         0      UDP        3   \n",
       "\n",
       "    tx_bytes  rx_bytes  tx_kbps  rx_kbps  tot_kbps  label  \n",
       "0  143928631      3917        0      0.0       0.0      0  \n",
       "1       3842      3520        0      0.0       0.0      0  \n",
       "2       3795      1242        0      0.0       0.0      0  \n",
       "3       3688      1492        0      0.0       0.0      0  \n",
       "4       3413      3665        0      0.0       0.0      0  "
      ]
     },
     "execution_count": 25,
     "metadata": {},
     "output_type": "execute_result"
    }
   ],
   "source": [
    "df.drop(['dt','src', 'dst'],axis=1,inplace=True)\n",
    "df.head()"
   ]
  },
  {
   "cell_type": "code",
   "execution_count": 26,
   "metadata": {},
   "outputs": [
    {
     "data": {
      "text/plain": [
       "array(['UDP', 'TCP', 'ICMP'], dtype=object)"
      ]
     },
     "execution_count": 26,
     "metadata": {},
     "output_type": "execute_result"
    }
   ],
   "source": [
    "df.Protocol.unique()"
   ]
  },
  {
   "cell_type": "code",
   "execution_count": 105,
   "metadata": {},
   "outputs": [
    {
     "data": {
      "image/png": "[encoded data removed]",
      "text/plain": [
       "<Figure size 432x288 with 1 Axes>"
      ]
     },
     "metadata": {
      "needs_background": "light"
     },
     "output_type": "display_data"
    }
   ],
   "source": [
    "Proto_dict = dict(df.Protocol.value_counts())\n",
    "sns.countplot(df.Protocol)\n",
    "plt.savefig(\"dataset_traffic_count.jpg\")"
   ]
  },
  {
   "cell_type": "code",
   "execution_count": 28,
   "metadata": {},
   "outputs": [],
   "source": [
    "# proto = [\"UDP\",'TCP','ICMP']\n",
    "# sizes = [dict(new_df.Protocol.value_counts())[0], dict(new_df.Protocol.value_counts())[1],dict(new_df.Protocol.value_counts())[2]]\n",
    "# plt.figure(figsize = (13,8))\n",
    "# plt.pie(sizes, labels=proto, autopct='%1.1f%%',\n",
    "#         shadow=True, startangle=90)\n",
    "# plt.legend([\"UDP\",'TCP','ICMP'])\n",
    "# plt.title('The percentage of Benign and Maliciuos Requests in dataset')\n",
    "# plt.show()"
   ]
  },
  {
   "cell_type": "code",
   "execution_count": 29,
   "metadata": {},
   "outputs": [
    {
     "data": {
      "text/plain": [
       "Index(['dt', 'switch', 'src', 'dst', 'pktcount', 'bytecount', 'dur',\n",
       "       'dur_nsec', 'tot_dur', 'flows', 'packetins', 'pktperflow',\n",
       "       'byteperflow', 'pktrate', 'Pairflow', 'Protocol', 'port_no', 'tx_bytes',\n",
       "       'rx_bytes', 'tx_kbps', 'rx_kbps', 'tot_kbps', 'label'],\n",
       "      dtype='object')"
      ]
     },
     "execution_count": 29,
     "metadata": {},
     "output_type": "execute_result"
    }
   ],
   "source": [
    "new_df.columns"
   ]
  },
  {
   "cell_type": "code",
   "execution_count": 30,
   "metadata": {},
   "outputs": [],
   "source": [
    "lable_encoder=LabelEncoder()"
   ]
  },
  {
   "cell_type": "code",
   "execution_count": 31,
   "metadata": {},
   "outputs": [],
   "source": [
    "new_df[\"Protocol\"]=lable_encoder.fit_transform(new_df[\"Protocol\"])"
   ]
  },
  {
   "cell_type": "code",
   "execution_count": 32,
   "metadata": {},
   "outputs": [
    {
     "data": {
      "text/plain": [
       "array([2, 1, 0])"
      ]
     },
     "execution_count": 32,
     "metadata": {},
     "output_type": "execute_result"
    }
   ],
   "source": [
    "new_df.Protocol.unique()"
   ]
  },
  {
   "cell_type": "code",
   "execution_count": 33,
   "metadata": {},
   "outputs": [
    {
     "data": {
      "text/plain": [
       "dt               0\n",
       "switch           0\n",
       "src              0\n",
       "dst              0\n",
       "pktcount         0\n",
       "bytecount        0\n",
       "dur              0\n",
       "dur_nsec         0\n",
       "tot_dur          0\n",
       "flows            0\n",
       "packetins        0\n",
       "pktperflow       0\n",
       "byteperflow      0\n",
       "pktrate          0\n",
       "Pairflow         0\n",
       "Protocol         0\n",
       "port_no          0\n",
       "tx_bytes         0\n",
       "rx_bytes         0\n",
       "tx_kbps          0\n",
       "rx_kbps        506\n",
       "tot_kbps       506\n",
       "label            0\n",
       "dtype: int64"
      ]
     },
     "execution_count": 33,
     "metadata": {},
     "output_type": "execute_result"
    }
   ],
   "source": [
    "new_df.isnull().sum()"
   ]
  },
  {
   "cell_type": "code",
   "execution_count": 34,
   "metadata": {},
   "outputs": [
    {
     "data": {
      "text/html": [
       "<div>\n",
       "<style scoped>\n",
       "    .dataframe tbody tr th:only-of-type {\n",
       "        vertical-align: middle;\n",
       "    }\n",
       "\n",
       "    .dataframe tbody tr th {\n",
       "        vertical-align: top;\n",
       "    }\n",
       "\n",
       "    .dataframe thead th {\n",
       "        text-align: right;\n",
       "    }\n",
       "</style>\n",
       "<table border=\"1\" class=\"dataframe\">\n",
       "  <thead>\n",
       "    <tr style=\"text-align: right;\">\n",
       "      <th></th>\n",
       "      <th>dt</th>\n",
       "      <th>switch</th>\n",
       "      <th>pktcount</th>\n",
       "      <th>bytecount</th>\n",
       "      <th>dur</th>\n",
       "      <th>dur_nsec</th>\n",
       "      <th>tot_dur</th>\n",
       "      <th>flows</th>\n",
       "      <th>packetins</th>\n",
       "      <th>pktperflow</th>\n",
       "      <th>...</th>\n",
       "      <th>pktrate</th>\n",
       "      <th>Pairflow</th>\n",
       "      <th>Protocol</th>\n",
       "      <th>port_no</th>\n",
       "      <th>tx_bytes</th>\n",
       "      <th>rx_bytes</th>\n",
       "      <th>tx_kbps</th>\n",
       "      <th>rx_kbps</th>\n",
       "      <th>tot_kbps</th>\n",
       "      <th>label</th>\n",
       "    </tr>\n",
       "  </thead>\n",
       "  <tbody>\n",
       "    <tr>\n",
       "      <th>count</th>\n",
       "      <td>104345.000000</td>\n",
       "      <td>104345.000000</td>\n",
       "      <td>104345.000000</td>\n",
       "      <td>1.043450e+05</td>\n",
       "      <td>104345.000000</td>\n",
       "      <td>1.043450e+05</td>\n",
       "      <td>1.043450e+05</td>\n",
       "      <td>104345.000000</td>\n",
       "      <td>104345.000000</td>\n",
       "      <td>104345.000000</td>\n",
       "      <td>...</td>\n",
       "      <td>104345.000000</td>\n",
       "      <td>104345.000000</td>\n",
       "      <td>104345.000000</td>\n",
       "      <td>104345.000000</td>\n",
       "      <td>1.043450e+05</td>\n",
       "      <td>1.043450e+05</td>\n",
       "      <td>104345.000000</td>\n",
       "      <td>103839.000000</td>\n",
       "      <td>103839.000000</td>\n",
       "      <td>104345.000000</td>\n",
       "    </tr>\n",
       "    <tr>\n",
       "      <th>mean</th>\n",
       "      <td>17927.514169</td>\n",
       "      <td>4.214260</td>\n",
       "      <td>52860.954746</td>\n",
       "      <td>3.818660e+07</td>\n",
       "      <td>321.497398</td>\n",
       "      <td>4.613880e+08</td>\n",
       "      <td>3.218865e+11</td>\n",
       "      <td>5.654234</td>\n",
       "      <td>5200.383468</td>\n",
       "      <td>6381.715291</td>\n",
       "      <td>...</td>\n",
       "      <td>212.210676</td>\n",
       "      <td>0.600987</td>\n",
       "      <td>0.925890</td>\n",
       "      <td>2.331094</td>\n",
       "      <td>9.325264e+07</td>\n",
       "      <td>9.328039e+07</td>\n",
       "      <td>998.899756</td>\n",
       "      <td>1003.811420</td>\n",
       "      <td>2007.578742</td>\n",
       "      <td>0.390857</td>\n",
       "    </tr>\n",
       "    <tr>\n",
       "      <th>std</th>\n",
       "      <td>11977.642655</td>\n",
       "      <td>1.956327</td>\n",
       "      <td>52023.241460</td>\n",
       "      <td>4.877748e+07</td>\n",
       "      <td>283.518232</td>\n",
       "      <td>2.770019e+08</td>\n",
       "      <td>2.834029e+11</td>\n",
       "      <td>2.950036</td>\n",
       "      <td>5257.001450</td>\n",
       "      <td>7404.777808</td>\n",
       "      <td>...</td>\n",
       "      <td>246.855123</td>\n",
       "      <td>0.489698</td>\n",
       "      <td>0.844045</td>\n",
       "      <td>1.084333</td>\n",
       "      <td>1.519380e+08</td>\n",
       "      <td>1.330004e+08</td>\n",
       "      <td>2423.471618</td>\n",
       "      <td>2054.887034</td>\n",
       "      <td>3144.437173</td>\n",
       "      <td>0.487945</td>\n",
       "    </tr>\n",
       "    <tr>\n",
       "      <th>min</th>\n",
       "      <td>2488.000000</td>\n",
       "      <td>1.000000</td>\n",
       "      <td>0.000000</td>\n",
       "      <td>0.000000e+00</td>\n",
       "      <td>0.000000</td>\n",
       "      <td>0.000000e+00</td>\n",
       "      <td>0.000000e+00</td>\n",
       "      <td>2.000000</td>\n",
       "      <td>4.000000</td>\n",
       "      <td>-130933.000000</td>\n",
       "      <td>...</td>\n",
       "      <td>-4365.000000</td>\n",
       "      <td>0.000000</td>\n",
       "      <td>0.000000</td>\n",
       "      <td>1.000000</td>\n",
       "      <td>2.527000e+03</td>\n",
       "      <td>8.560000e+02</td>\n",
       "      <td>0.000000</td>\n",
       "      <td>0.000000</td>\n",
       "      <td>0.000000</td>\n",
       "      <td>0.000000</td>\n",
       "    </tr>\n",
       "    <tr>\n",
       "      <th>25%</th>\n",
       "      <td>7098.000000</td>\n",
       "      <td>3.000000</td>\n",
       "      <td>808.000000</td>\n",
       "      <td>7.957600e+04</td>\n",
       "      <td>127.000000</td>\n",
       "      <td>2.340000e+08</td>\n",
       "      <td>1.270000e+11</td>\n",
       "      <td>3.000000</td>\n",
       "      <td>1943.000000</td>\n",
       "      <td>29.000000</td>\n",
       "      <td>...</td>\n",
       "      <td>0.000000</td>\n",
       "      <td>0.000000</td>\n",
       "      <td>0.000000</td>\n",
       "      <td>1.000000</td>\n",
       "      <td>4.743000e+03</td>\n",
       "      <td>3.539000e+03</td>\n",
       "      <td>0.000000</td>\n",
       "      <td>0.000000</td>\n",
       "      <td>0.000000</td>\n",
       "      <td>0.000000</td>\n",
       "    </tr>\n",
       "    <tr>\n",
       "      <th>50%</th>\n",
       "      <td>11905.000000</td>\n",
       "      <td>4.000000</td>\n",
       "      <td>42828.000000</td>\n",
       "      <td>6.471930e+06</td>\n",
       "      <td>251.000000</td>\n",
       "      <td>4.180000e+08</td>\n",
       "      <td>2.520000e+11</td>\n",
       "      <td>5.000000</td>\n",
       "      <td>3024.000000</td>\n",
       "      <td>8305.000000</td>\n",
       "      <td>...</td>\n",
       "      <td>276.000000</td>\n",
       "      <td>1.000000</td>\n",
       "      <td>1.000000</td>\n",
       "      <td>2.000000</td>\n",
       "      <td>4.219610e+06</td>\n",
       "      <td>1.338339e+07</td>\n",
       "      <td>0.000000</td>\n",
       "      <td>0.000000</td>\n",
       "      <td>4.000000</td>\n",
       "      <td>0.000000</td>\n",
       "    </tr>\n",
       "    <tr>\n",
       "      <th>75%</th>\n",
       "      <td>29952.000000</td>\n",
       "      <td>5.000000</td>\n",
       "      <td>94796.000000</td>\n",
       "      <td>7.620354e+07</td>\n",
       "      <td>412.000000</td>\n",
       "      <td>7.030000e+08</td>\n",
       "      <td>4.130000e+11</td>\n",
       "      <td>7.000000</td>\n",
       "      <td>7462.000000</td>\n",
       "      <td>10017.000000</td>\n",
       "      <td>...</td>\n",
       "      <td>333.000000</td>\n",
       "      <td>1.000000</td>\n",
       "      <td>2.000000</td>\n",
       "      <td>3.000000</td>\n",
       "      <td>1.356398e+08</td>\n",
       "      <td>1.439277e+08</td>\n",
       "      <td>251.000000</td>\n",
       "      <td>557.000000</td>\n",
       "      <td>3838.000000</td>\n",
       "      <td>1.000000</td>\n",
       "    </tr>\n",
       "    <tr>\n",
       "      <th>max</th>\n",
       "      <td>42935.000000</td>\n",
       "      <td>10.000000</td>\n",
       "      <td>260006.000000</td>\n",
       "      <td>1.471280e+08</td>\n",
       "      <td>1881.000000</td>\n",
       "      <td>9.990000e+08</td>\n",
       "      <td>1.880000e+12</td>\n",
       "      <td>17.000000</td>\n",
       "      <td>25224.000000</td>\n",
       "      <td>19190.000000</td>\n",
       "      <td>...</td>\n",
       "      <td>639.000000</td>\n",
       "      <td>1.000000</td>\n",
       "      <td>2.000000</td>\n",
       "      <td>5.000000</td>\n",
       "      <td>1.269982e+09</td>\n",
       "      <td>9.905962e+08</td>\n",
       "      <td>20580.000000</td>\n",
       "      <td>16577.000000</td>\n",
       "      <td>20580.000000</td>\n",
       "      <td>1.000000</td>\n",
       "    </tr>\n",
       "  </tbody>\n",
       "</table>\n",
       "<p>8 rows × 21 columns</p>\n",
       "</div>"
      ],
      "text/plain": [
       "                  dt         switch       pktcount     bytecount  \\\n",
       "count  104345.000000  104345.000000  104345.000000  1.043450e+05   \n",
       "mean    17927.514169       4.214260   52860.954746  3.818660e+07   \n",
       "std     11977.642655       1.956327   52023.241460  4.877748e+07   \n",
       "min      2488.000000       1.000000       0.000000  0.000000e+00   \n",
       "25%      7098.000000       3.000000     808.000000  7.957600e+04   \n",
       "50%     11905.000000       4.000000   42828.000000  6.471930e+06   \n",
       "75%     29952.000000       5.000000   94796.000000  7.620354e+07   \n",
       "max     42935.000000      10.000000  260006.000000  1.471280e+08   \n",
       "\n",
       "                 dur      dur_nsec       tot_dur          flows  \\\n",
       "count  104345.000000  1.043450e+05  1.043450e+05  104345.000000   \n",
       "mean      321.497398  4.613880e+08  3.218865e+11       5.654234   \n",
       "std       283.518232  2.770019e+08  2.834029e+11       2.950036   \n",
       "min         0.000000  0.000000e+00  0.000000e+00       2.000000   \n",
       "25%       127.000000  2.340000e+08  1.270000e+11       3.000000   \n",
       "50%       251.000000  4.180000e+08  2.520000e+11       5.000000   \n",
       "75%       412.000000  7.030000e+08  4.130000e+11       7.000000   \n",
       "max      1881.000000  9.990000e+08  1.880000e+12      17.000000   \n",
       "\n",
       "           packetins     pktperflow  ...        pktrate       Pairflow  \\\n",
       "count  104345.000000  104345.000000  ...  104345.000000  104345.000000   \n",
       "mean     5200.383468    6381.715291  ...     212.210676       0.600987   \n",
       "std      5257.001450    7404.777808  ...     246.855123       0.489698   \n",
       "min         4.000000 -130933.000000  ...   -4365.000000       0.000000   \n",
       "25%      1943.000000      29.000000  ...       0.000000       0.000000   \n",
       "50%      3024.000000    8305.000000  ...     276.000000       1.000000   \n",
       "75%      7462.000000   10017.000000  ...     333.000000       1.000000   \n",
       "max     25224.000000   19190.000000  ...     639.000000       1.000000   \n",
       "\n",
       "            Protocol        port_no      tx_bytes      rx_bytes  \\\n",
       "count  104345.000000  104345.000000  1.043450e+05  1.043450e+05   \n",
       "mean        0.925890       2.331094  9.325264e+07  9.328039e+07   \n",
       "std         0.844045       1.084333  1.519380e+08  1.330004e+08   \n",
       "min         0.000000       1.000000  2.527000e+03  8.560000e+02   \n",
       "25%         0.000000       1.000000  4.743000e+03  3.539000e+03   \n",
       "50%         1.000000       2.000000  4.219610e+06  1.338339e+07   \n",
       "75%         2.000000       3.000000  1.356398e+08  1.439277e+08   \n",
       "max         2.000000       5.000000  1.269982e+09  9.905962e+08   \n",
       "\n",
       "             tx_kbps        rx_kbps       tot_kbps          label  \n",
       "count  104345.000000  103839.000000  103839.000000  104345.000000  \n",
       "mean      998.899756    1003.811420    2007.578742       0.390857  \n",
       "std      2423.471618    2054.887034    3144.437173       0.487945  \n",
       "min         0.000000       0.000000       0.000000       0.000000  \n",
       "25%         0.000000       0.000000       0.000000       0.000000  \n",
       "50%         0.000000       0.000000       4.000000       0.000000  \n",
       "75%       251.000000     557.000000    3838.000000       1.000000  \n",
       "max     20580.000000   16577.000000   20580.000000       1.000000  \n",
       "\n",
       "[8 rows x 21 columns]"
      ]
     },
     "execution_count": 34,
     "metadata": {},
     "output_type": "execute_result"
    }
   ],
   "source": [
    "new_df.describe()"
   ]
  },
  {
   "cell_type": "code",
   "execution_count": 35,
   "metadata": {},
   "outputs": [],
   "source": [
    "new_df=new_df.interpolate()"
   ]
  },
  {
   "cell_type": "code",
   "execution_count": 36,
   "metadata": {},
   "outputs": [
    {
     "data": {
      "text/plain": [
       "dt             0\n",
       "switch         0\n",
       "src            0\n",
       "dst            0\n",
       "pktcount       0\n",
       "bytecount      0\n",
       "dur            0\n",
       "dur_nsec       0\n",
       "tot_dur        0\n",
       "flows          0\n",
       "packetins      0\n",
       "pktperflow     0\n",
       "byteperflow    0\n",
       "pktrate        0\n",
       "Pairflow       0\n",
       "Protocol       0\n",
       "port_no        0\n",
       "tx_bytes       0\n",
       "rx_bytes       0\n",
       "tx_kbps        0\n",
       "rx_kbps        0\n",
       "tot_kbps       0\n",
       "label          0\n",
       "dtype: int64"
      ]
     },
     "execution_count": 36,
     "metadata": {},
     "output_type": "execute_result"
    }
   ],
   "source": [
    "new_df.isnull().sum()"
   ]
  },
  {
   "cell_type": "code",
   "execution_count": 50,
   "metadata": {},
   "outputs": [],
   "source": [
    "X=new_df.drop(columns=['label','src','dst','dt'])\n",
    "Y=new_df['label']"
   ]
  },
  {
   "cell_type": "code",
   "execution_count": 51,
   "metadata": {},
   "outputs": [
    {
     "data": {
      "text/html": [
       "<div>\n",
       "<style scoped>\n",
       "    .dataframe tbody tr th:only-of-type {\n",
       "        vertical-align: middle;\n",
       "    }\n",
       "\n",
       "    .dataframe tbody tr th {\n",
       "        vertical-align: top;\n",
       "    }\n",
       "\n",
       "    .dataframe thead th {\n",
       "        text-align: right;\n",
       "    }\n",
       "</style>\n",
       "<table border=\"1\" class=\"dataframe\">\n",
       "  <thead>\n",
       "    <tr style=\"text-align: right;\">\n",
       "      <th></th>\n",
       "      <th>switch</th>\n",
       "      <th>pktcount</th>\n",
       "      <th>bytecount</th>\n",
       "      <th>dur</th>\n",
       "      <th>dur_nsec</th>\n",
       "      <th>tot_dur</th>\n",
       "      <th>flows</th>\n",
       "      <th>packetins</th>\n",
       "      <th>pktperflow</th>\n",
       "      <th>byteperflow</th>\n",
       "      <th>pktrate</th>\n",
       "      <th>Pairflow</th>\n",
       "      <th>Protocol</th>\n",
       "      <th>port_no</th>\n",
       "      <th>tx_bytes</th>\n",
       "      <th>rx_bytes</th>\n",
       "      <th>tx_kbps</th>\n",
       "      <th>rx_kbps</th>\n",
       "      <th>tot_kbps</th>\n",
       "    </tr>\n",
       "  </thead>\n",
       "  <tbody>\n",
       "    <tr>\n",
       "      <th>0</th>\n",
       "      <td>1</td>\n",
       "      <td>45304</td>\n",
       "      <td>48294064</td>\n",
       "      <td>100</td>\n",
       "      <td>716000000</td>\n",
       "      <td>1.010000e+11</td>\n",
       "      <td>3</td>\n",
       "      <td>1943</td>\n",
       "      <td>13535</td>\n",
       "      <td>14428310</td>\n",
       "      <td>451</td>\n",
       "      <td>0</td>\n",
       "      <td>2</td>\n",
       "      <td>3</td>\n",
       "      <td>143928631</td>\n",
       "      <td>3917</td>\n",
       "      <td>0</td>\n",
       "      <td>0.0</td>\n",
       "      <td>0.0</td>\n",
       "    </tr>\n",
       "    <tr>\n",
       "      <th>1</th>\n",
       "      <td>1</td>\n",
       "      <td>126395</td>\n",
       "      <td>134737070</td>\n",
       "      <td>280</td>\n",
       "      <td>734000000</td>\n",
       "      <td>2.810000e+11</td>\n",
       "      <td>2</td>\n",
       "      <td>1943</td>\n",
       "      <td>13531</td>\n",
       "      <td>14424046</td>\n",
       "      <td>451</td>\n",
       "      <td>0</td>\n",
       "      <td>2</td>\n",
       "      <td>4</td>\n",
       "      <td>3842</td>\n",
       "      <td>3520</td>\n",
       "      <td>0</td>\n",
       "      <td>0.0</td>\n",
       "      <td>0.0</td>\n",
       "    </tr>\n",
       "    <tr>\n",
       "      <th>2</th>\n",
       "      <td>1</td>\n",
       "      <td>90333</td>\n",
       "      <td>96294978</td>\n",
       "      <td>200</td>\n",
       "      <td>744000000</td>\n",
       "      <td>2.010000e+11</td>\n",
       "      <td>3</td>\n",
       "      <td>1943</td>\n",
       "      <td>13534</td>\n",
       "      <td>14427244</td>\n",
       "      <td>451</td>\n",
       "      <td>0</td>\n",
       "      <td>2</td>\n",
       "      <td>1</td>\n",
       "      <td>3795</td>\n",
       "      <td>1242</td>\n",
       "      <td>0</td>\n",
       "      <td>0.0</td>\n",
       "      <td>0.0</td>\n",
       "    </tr>\n",
       "    <tr>\n",
       "      <th>3</th>\n",
       "      <td>1</td>\n",
       "      <td>90333</td>\n",
       "      <td>96294978</td>\n",
       "      <td>200</td>\n",
       "      <td>744000000</td>\n",
       "      <td>2.010000e+11</td>\n",
       "      <td>3</td>\n",
       "      <td>1943</td>\n",
       "      <td>13534</td>\n",
       "      <td>14427244</td>\n",
       "      <td>451</td>\n",
       "      <td>0</td>\n",
       "      <td>2</td>\n",
       "      <td>2</td>\n",
       "      <td>3688</td>\n",
       "      <td>1492</td>\n",
       "      <td>0</td>\n",
       "      <td>0.0</td>\n",
       "      <td>0.0</td>\n",
       "    </tr>\n",
       "    <tr>\n",
       "      <th>4</th>\n",
       "      <td>1</td>\n",
       "      <td>90333</td>\n",
       "      <td>96294978</td>\n",
       "      <td>200</td>\n",
       "      <td>744000000</td>\n",
       "      <td>2.010000e+11</td>\n",
       "      <td>3</td>\n",
       "      <td>1943</td>\n",
       "      <td>13534</td>\n",
       "      <td>14427244</td>\n",
       "      <td>451</td>\n",
       "      <td>0</td>\n",
       "      <td>2</td>\n",
       "      <td>3</td>\n",
       "      <td>3413</td>\n",
       "      <td>3665</td>\n",
       "      <td>0</td>\n",
       "      <td>0.0</td>\n",
       "      <td>0.0</td>\n",
       "    </tr>\n",
       "    <tr>\n",
       "      <th>...</th>\n",
       "      <td>...</td>\n",
       "      <td>...</td>\n",
       "      <td>...</td>\n",
       "      <td>...</td>\n",
       "      <td>...</td>\n",
       "      <td>...</td>\n",
       "      <td>...</td>\n",
       "      <td>...</td>\n",
       "      <td>...</td>\n",
       "      <td>...</td>\n",
       "      <td>...</td>\n",
       "      <td>...</td>\n",
       "      <td>...</td>\n",
       "      <td>...</td>\n",
       "      <td>...</td>\n",
       "      <td>...</td>\n",
       "      <td>...</td>\n",
       "      <td>...</td>\n",
       "      <td>...</td>\n",
       "    </tr>\n",
       "    <tr>\n",
       "      <th>104340</th>\n",
       "      <td>3</td>\n",
       "      <td>79</td>\n",
       "      <td>7742</td>\n",
       "      <td>81</td>\n",
       "      <td>842000000</td>\n",
       "      <td>8.184200e+10</td>\n",
       "      <td>5</td>\n",
       "      <td>10</td>\n",
       "      <td>29</td>\n",
       "      <td>2842</td>\n",
       "      <td>0</td>\n",
       "      <td>0</td>\n",
       "      <td>0</td>\n",
       "      <td>1</td>\n",
       "      <td>15209</td>\n",
       "      <td>12720</td>\n",
       "      <td>1</td>\n",
       "      <td>1.0</td>\n",
       "      <td>2.0</td>\n",
       "    </tr>\n",
       "    <tr>\n",
       "      <th>104341</th>\n",
       "      <td>3</td>\n",
       "      <td>79</td>\n",
       "      <td>7742</td>\n",
       "      <td>81</td>\n",
       "      <td>842000000</td>\n",
       "      <td>8.184200e+10</td>\n",
       "      <td>5</td>\n",
       "      <td>10</td>\n",
       "      <td>29</td>\n",
       "      <td>2842</td>\n",
       "      <td>0</td>\n",
       "      <td>0</td>\n",
       "      <td>0</td>\n",
       "      <td>3</td>\n",
       "      <td>15099</td>\n",
       "      <td>14693</td>\n",
       "      <td>1</td>\n",
       "      <td>1.0</td>\n",
       "      <td>2.0</td>\n",
       "    </tr>\n",
       "    <tr>\n",
       "      <th>104342</th>\n",
       "      <td>3</td>\n",
       "      <td>31</td>\n",
       "      <td>3038</td>\n",
       "      <td>31</td>\n",
       "      <td>805000000</td>\n",
       "      <td>3.180500e+10</td>\n",
       "      <td>5</td>\n",
       "      <td>10</td>\n",
       "      <td>30</td>\n",
       "      <td>2940</td>\n",
       "      <td>1</td>\n",
       "      <td>0</td>\n",
       "      <td>0</td>\n",
       "      <td>2</td>\n",
       "      <td>3409</td>\n",
       "      <td>3731</td>\n",
       "      <td>0</td>\n",
       "      <td>0.0</td>\n",
       "      <td>0.0</td>\n",
       "    </tr>\n",
       "    <tr>\n",
       "      <th>104343</th>\n",
       "      <td>3</td>\n",
       "      <td>31</td>\n",
       "      <td>3038</td>\n",
       "      <td>31</td>\n",
       "      <td>805000000</td>\n",
       "      <td>3.180500e+10</td>\n",
       "      <td>5</td>\n",
       "      <td>10</td>\n",
       "      <td>30</td>\n",
       "      <td>2940</td>\n",
       "      <td>1</td>\n",
       "      <td>0</td>\n",
       "      <td>0</td>\n",
       "      <td>1</td>\n",
       "      <td>15209</td>\n",
       "      <td>12720</td>\n",
       "      <td>1</td>\n",
       "      <td>1.0</td>\n",
       "      <td>2.0</td>\n",
       "    </tr>\n",
       "    <tr>\n",
       "      <th>104344</th>\n",
       "      <td>3</td>\n",
       "      <td>31</td>\n",
       "      <td>3038</td>\n",
       "      <td>31</td>\n",
       "      <td>805000000</td>\n",
       "      <td>3.180500e+10</td>\n",
       "      <td>5</td>\n",
       "      <td>10</td>\n",
       "      <td>30</td>\n",
       "      <td>2940</td>\n",
       "      <td>1</td>\n",
       "      <td>0</td>\n",
       "      <td>0</td>\n",
       "      <td>3</td>\n",
       "      <td>15099</td>\n",
       "      <td>14693</td>\n",
       "      <td>1</td>\n",
       "      <td>1.0</td>\n",
       "      <td>2.0</td>\n",
       "    </tr>\n",
       "  </tbody>\n",
       "</table>\n",
       "<p>104345 rows × 19 columns</p>\n",
       "</div>"
      ],
      "text/plain": [
       "        switch  pktcount  bytecount  dur   dur_nsec       tot_dur  flows  \\\n",
       "0            1     45304   48294064  100  716000000  1.010000e+11      3   \n",
       "1            1    126395  134737070  280  734000000  2.810000e+11      2   \n",
       "2            1     90333   96294978  200  744000000  2.010000e+11      3   \n",
       "3            1     90333   96294978  200  744000000  2.010000e+11      3   \n",
       "4            1     90333   96294978  200  744000000  2.010000e+11      3   \n",
       "...        ...       ...        ...  ...        ...           ...    ...   \n",
       "104340       3        79       7742   81  842000000  8.184200e+10      5   \n",
       "104341       3        79       7742   81  842000000  8.184200e+10      5   \n",
       "104342       3        31       3038   31  805000000  3.180500e+10      5   \n",
       "104343       3        31       3038   31  805000000  3.180500e+10      5   \n",
       "104344       3        31       3038   31  805000000  3.180500e+10      5   \n",
       "\n",
       "        packetins  pktperflow  byteperflow  pktrate  Pairflow  Protocol  \\\n",
       "0            1943       13535     14428310      451         0         2   \n",
       "1            1943       13531     14424046      451         0         2   \n",
       "2            1943       13534     14427244      451         0         2   \n",
       "3            1943       13534     14427244      451         0         2   \n",
       "4            1943       13534     14427244      451         0         2   \n",
       "...           ...         ...          ...      ...       ...       ...   \n",
       "104340         10          29         2842        0         0         0   \n",
       "104341         10          29         2842        0         0         0   \n",
       "104342         10          30         2940        1         0         0   \n",
       "104343         10          30         2940        1         0         0   \n",
       "104344         10          30         2940        1         0         0   \n",
       "\n",
       "        port_no   tx_bytes  rx_bytes  tx_kbps  rx_kbps  tot_kbps  \n",
       "0             3  143928631      3917        0      0.0       0.0  \n",
       "1             4       3842      3520        0      0.0       0.0  \n",
       "2             1       3795      1242        0      0.0       0.0  \n",
       "3             2       3688      1492        0      0.0       0.0  \n",
       "4             3       3413      3665        0      0.0       0.0  \n",
       "...         ...        ...       ...      ...      ...       ...  \n",
       "104340        1      15209     12720        1      1.0       2.0  \n",
       "104341        3      15099     14693        1      1.0       2.0  \n",
       "104342        2       3409      3731        0      0.0       0.0  \n",
       "104343        1      15209     12720        1      1.0       2.0  \n",
       "104344        3      15099     14693        1      1.0       2.0  \n",
       "\n",
       "[104345 rows x 19 columns]"
      ]
     },
     "execution_count": 51,
     "metadata": {},
     "output_type": "execute_result"
    }
   ],
   "source": [
    "X"
   ]
  },
  {
   "cell_type": "code",
   "execution_count": 52,
   "metadata": {},
   "outputs": [
    {
     "data": {
      "text/html": [
       "<div>\n",
       "<style scoped>\n",
       "    .dataframe tbody tr th:only-of-type {\n",
       "        vertical-align: middle;\n",
       "    }\n",
       "\n",
       "    .dataframe tbody tr th {\n",
       "        vertical-align: top;\n",
       "    }\n",
       "\n",
       "    .dataframe thead th {\n",
       "        text-align: right;\n",
       "    }\n",
       "</style>\n",
       "<table border=\"1\" class=\"dataframe\">\n",
       "  <thead>\n",
       "    <tr style=\"text-align: right;\">\n",
       "      <th></th>\n",
       "      <th>0</th>\n",
       "      <th>1</th>\n",
       "      <th>2</th>\n",
       "      <th>3</th>\n",
       "      <th>4</th>\n",
       "      <th>5</th>\n",
       "      <th>6</th>\n",
       "      <th>7</th>\n",
       "      <th>8</th>\n",
       "      <th>9</th>\n",
       "      <th>10</th>\n",
       "      <th>11</th>\n",
       "      <th>12</th>\n",
       "      <th>13</th>\n",
       "      <th>14</th>\n",
       "      <th>15</th>\n",
       "      <th>16</th>\n",
       "      <th>17</th>\n",
       "      <th>18</th>\n",
       "    </tr>\n",
       "  </thead>\n",
       "  <tbody>\n",
       "    <tr>\n",
       "      <th>0</th>\n",
       "      <td>-1.5</td>\n",
       "      <td>0.026344</td>\n",
       "      <td>0.549395</td>\n",
       "      <td>-0.529825</td>\n",
       "      <td>0.635394</td>\n",
       "      <td>-0.527972</td>\n",
       "      <td>-0.50</td>\n",
       "      <td>-0.195869</td>\n",
       "      <td>0.523628</td>\n",
       "      <td>1.426813</td>\n",
       "      <td>0.525526</td>\n",
       "      <td>-1.0</td>\n",
       "      <td>0.5</td>\n",
       "      <td>0.5</td>\n",
       "      <td>1.030036</td>\n",
       "      <td>-0.092962</td>\n",
       "      <td>0.000000</td>\n",
       "      <td>0.000000</td>\n",
       "      <td>-0.001042</td>\n",
       "    </tr>\n",
       "    <tr>\n",
       "      <th>1</th>\n",
       "      <td>-1.5</td>\n",
       "      <td>0.889124</td>\n",
       "      <td>1.684951</td>\n",
       "      <td>0.101754</td>\n",
       "      <td>0.673774</td>\n",
       "      <td>0.101399</td>\n",
       "      <td>-0.75</td>\n",
       "      <td>-0.195869</td>\n",
       "      <td>0.523228</td>\n",
       "      <td>1.426375</td>\n",
       "      <td>0.525526</td>\n",
       "      <td>-1.0</td>\n",
       "      <td>0.5</td>\n",
       "      <td>1.0</td>\n",
       "      <td>-0.031082</td>\n",
       "      <td>-0.092965</td>\n",
       "      <td>0.000000</td>\n",
       "      <td>0.000000</td>\n",
       "      <td>-0.001042</td>\n",
       "    </tr>\n",
       "    <tr>\n",
       "      <th>2</th>\n",
       "      <td>-1.5</td>\n",
       "      <td>0.505437</td>\n",
       "      <td>1.179958</td>\n",
       "      <td>-0.178947</td>\n",
       "      <td>0.695096</td>\n",
       "      <td>-0.178322</td>\n",
       "      <td>-0.50</td>\n",
       "      <td>-0.195869</td>\n",
       "      <td>0.523528</td>\n",
       "      <td>1.426703</td>\n",
       "      <td>0.525526</td>\n",
       "      <td>-1.0</td>\n",
       "      <td>0.5</td>\n",
       "      <td>-0.5</td>\n",
       "      <td>-0.031082</td>\n",
       "      <td>-0.092981</td>\n",
       "      <td>0.000000</td>\n",
       "      <td>0.000000</td>\n",
       "      <td>-0.001042</td>\n",
       "    </tr>\n",
       "    <tr>\n",
       "      <th>3</th>\n",
       "      <td>-1.5</td>\n",
       "      <td>0.505437</td>\n",
       "      <td>1.179958</td>\n",
       "      <td>-0.178947</td>\n",
       "      <td>0.695096</td>\n",
       "      <td>-0.178322</td>\n",
       "      <td>-0.50</td>\n",
       "      <td>-0.195869</td>\n",
       "      <td>0.523528</td>\n",
       "      <td>1.426703</td>\n",
       "      <td>0.525526</td>\n",
       "      <td>-1.0</td>\n",
       "      <td>0.5</td>\n",
       "      <td>0.0</td>\n",
       "      <td>-0.031083</td>\n",
       "      <td>-0.092979</td>\n",
       "      <td>0.000000</td>\n",
       "      <td>0.000000</td>\n",
       "      <td>-0.001042</td>\n",
       "    </tr>\n",
       "    <tr>\n",
       "      <th>4</th>\n",
       "      <td>-1.5</td>\n",
       "      <td>0.505437</td>\n",
       "      <td>1.179958</td>\n",
       "      <td>-0.178947</td>\n",
       "      <td>0.695096</td>\n",
       "      <td>-0.178322</td>\n",
       "      <td>-0.50</td>\n",
       "      <td>-0.195869</td>\n",
       "      <td>0.523528</td>\n",
       "      <td>1.426703</td>\n",
       "      <td>0.525526</td>\n",
       "      <td>-1.0</td>\n",
       "      <td>0.5</td>\n",
       "      <td>0.5</td>\n",
       "      <td>-0.031085</td>\n",
       "      <td>-0.092964</td>\n",
       "      <td>0.000000</td>\n",
       "      <td>0.000000</td>\n",
       "      <td>-0.001042</td>\n",
       "    </tr>\n",
       "    <tr>\n",
       "      <th>...</th>\n",
       "      <td>...</td>\n",
       "      <td>...</td>\n",
       "      <td>...</td>\n",
       "      <td>...</td>\n",
       "      <td>...</td>\n",
       "      <td>...</td>\n",
       "      <td>...</td>\n",
       "      <td>...</td>\n",
       "      <td>...</td>\n",
       "      <td>...</td>\n",
       "      <td>...</td>\n",
       "      <td>...</td>\n",
       "      <td>...</td>\n",
       "      <td>...</td>\n",
       "      <td>...</td>\n",
       "      <td>...</td>\n",
       "      <td>...</td>\n",
       "      <td>...</td>\n",
       "      <td>...</td>\n",
       "    </tr>\n",
       "    <tr>\n",
       "      <th>104340</th>\n",
       "      <td>-0.5</td>\n",
       "      <td>-0.454835</td>\n",
       "      <td>-0.084917</td>\n",
       "      <td>-0.596491</td>\n",
       "      <td>0.904051</td>\n",
       "      <td>-0.594958</td>\n",
       "      <td>0.00</td>\n",
       "      <td>-0.546113</td>\n",
       "      <td>-0.828594</td>\n",
       "      <td>-0.056484</td>\n",
       "      <td>-0.828829</td>\n",
       "      <td>-1.0</td>\n",
       "      <td>-0.5</td>\n",
       "      <td>-0.5</td>\n",
       "      <td>-0.030998</td>\n",
       "      <td>-0.092901</td>\n",
       "      <td>0.003984</td>\n",
       "      <td>0.001672</td>\n",
       "      <td>-0.000521</td>\n",
       "    </tr>\n",
       "    <tr>\n",
       "      <th>104341</th>\n",
       "      <td>-0.5</td>\n",
       "      <td>-0.454835</td>\n",
       "      <td>-0.084917</td>\n",
       "      <td>-0.596491</td>\n",
       "      <td>0.904051</td>\n",
       "      <td>-0.594958</td>\n",
       "      <td>0.00</td>\n",
       "      <td>-0.546113</td>\n",
       "      <td>-0.828594</td>\n",
       "      <td>-0.056484</td>\n",
       "      <td>-0.828829</td>\n",
       "      <td>-1.0</td>\n",
       "      <td>-0.5</td>\n",
       "      <td>0.5</td>\n",
       "      <td>-0.030999</td>\n",
       "      <td>-0.092887</td>\n",
       "      <td>0.003984</td>\n",
       "      <td>0.001672</td>\n",
       "      <td>-0.000521</td>\n",
       "    </tr>\n",
       "    <tr>\n",
       "      <th>104342</th>\n",
       "      <td>-0.5</td>\n",
       "      <td>-0.455345</td>\n",
       "      <td>-0.084978</td>\n",
       "      <td>-0.771930</td>\n",
       "      <td>0.825160</td>\n",
       "      <td>-0.769913</td>\n",
       "      <td>0.00</td>\n",
       "      <td>-0.546113</td>\n",
       "      <td>-0.828494</td>\n",
       "      <td>-0.056474</td>\n",
       "      <td>-0.825826</td>\n",
       "      <td>-1.0</td>\n",
       "      <td>-0.5</td>\n",
       "      <td>0.0</td>\n",
       "      <td>-0.031085</td>\n",
       "      <td>-0.092963</td>\n",
       "      <td>0.000000</td>\n",
       "      <td>0.000000</td>\n",
       "      <td>-0.001042</td>\n",
       "    </tr>\n",
       "    <tr>\n",
       "      <th>104343</th>\n",
       "      <td>-0.5</td>\n",
       "      <td>-0.455345</td>\n",
       "      <td>-0.084978</td>\n",
       "      <td>-0.771930</td>\n",
       "      <td>0.825160</td>\n",
       "      <td>-0.769913</td>\n",
       "      <td>0.00</td>\n",
       "      <td>-0.546113</td>\n",
       "      <td>-0.828494</td>\n",
       "      <td>-0.056474</td>\n",
       "      <td>-0.825826</td>\n",
       "      <td>-1.0</td>\n",
       "      <td>-0.5</td>\n",
       "      <td>-0.5</td>\n",
       "      <td>-0.030998</td>\n",
       "      <td>-0.092901</td>\n",
       "      <td>0.003984</td>\n",
       "      <td>0.001672</td>\n",
       "      <td>-0.000521</td>\n",
       "    </tr>\n",
       "    <tr>\n",
       "      <th>104344</th>\n",
       "      <td>-0.5</td>\n",
       "      <td>-0.455345</td>\n",
       "      <td>-0.084978</td>\n",
       "      <td>-0.771930</td>\n",
       "      <td>0.825160</td>\n",
       "      <td>-0.769913</td>\n",
       "      <td>0.00</td>\n",
       "      <td>-0.546113</td>\n",
       "      <td>-0.828494</td>\n",
       "      <td>-0.056474</td>\n",
       "      <td>-0.825826</td>\n",
       "      <td>-1.0</td>\n",
       "      <td>-0.5</td>\n",
       "      <td>0.5</td>\n",
       "      <td>-0.030999</td>\n",
       "      <td>-0.092887</td>\n",
       "      <td>0.003984</td>\n",
       "      <td>0.001672</td>\n",
       "      <td>-0.000521</td>\n",
       "    </tr>\n",
       "  </tbody>\n",
       "</table>\n",
       "<p>104345 rows × 19 columns</p>\n",
       "</div>"
      ],
      "text/plain": [
       "          0         1         2         3         4         5     6         7  \\\n",
       "0      -1.5  0.026344  0.549395 -0.529825  0.635394 -0.527972 -0.50 -0.195869   \n",
       "1      -1.5  0.889124  1.684951  0.101754  0.673774  0.101399 -0.75 -0.195869   \n",
       "2      -1.5  0.505437  1.179958 -0.178947  0.695096 -0.178322 -0.50 -0.195869   \n",
       "3      -1.5  0.505437  1.179958 -0.178947  0.695096 -0.178322 -0.50 -0.195869   \n",
       "4      -1.5  0.505437  1.179958 -0.178947  0.695096 -0.178322 -0.50 -0.195869   \n",
       "...     ...       ...       ...       ...       ...       ...   ...       ...   \n",
       "104340 -0.5 -0.454835 -0.084917 -0.596491  0.904051 -0.594958  0.00 -0.546113   \n",
       "104341 -0.5 -0.454835 -0.084917 -0.596491  0.904051 -0.594958  0.00 -0.546113   \n",
       "104342 -0.5 -0.455345 -0.084978 -0.771930  0.825160 -0.769913  0.00 -0.546113   \n",
       "104343 -0.5 -0.455345 -0.084978 -0.771930  0.825160 -0.769913  0.00 -0.546113   \n",
       "104344 -0.5 -0.455345 -0.084978 -0.771930  0.825160 -0.769913  0.00 -0.546113   \n",
       "\n",
       "               8         9        10   11   12   13        14        15  \\\n",
       "0       0.523628  1.426813  0.525526 -1.0  0.5  0.5  1.030036 -0.092962   \n",
       "1       0.523228  1.426375  0.525526 -1.0  0.5  1.0 -0.031082 -0.092965   \n",
       "2       0.523528  1.426703  0.525526 -1.0  0.5 -0.5 -0.031082 -0.092981   \n",
       "3       0.523528  1.426703  0.525526 -1.0  0.5  0.0 -0.031083 -0.092979   \n",
       "4       0.523528  1.426703  0.525526 -1.0  0.5  0.5 -0.031085 -0.092964   \n",
       "...          ...       ...       ...  ...  ...  ...       ...       ...   \n",
       "104340 -0.828594 -0.056484 -0.828829 -1.0 -0.5 -0.5 -0.030998 -0.092901   \n",
       "104341 -0.828594 -0.056484 -0.828829 -1.0 -0.5  0.5 -0.030999 -0.092887   \n",
       "104342 -0.828494 -0.056474 -0.825826 -1.0 -0.5  0.0 -0.031085 -0.092963   \n",
       "104343 -0.828494 -0.056474 -0.825826 -1.0 -0.5 -0.5 -0.030998 -0.092901   \n",
       "104344 -0.828494 -0.056474 -0.825826 -1.0 -0.5  0.5 -0.030999 -0.092887   \n",
       "\n",
       "              16        17        18  \n",
       "0       0.000000  0.000000 -0.001042  \n",
       "1       0.000000  0.000000 -0.001042  \n",
       "2       0.000000  0.000000 -0.001042  \n",
       "3       0.000000  0.000000 -0.001042  \n",
       "4       0.000000  0.000000 -0.001042  \n",
       "...          ...       ...       ...  \n",
       "104340  0.003984  0.001672 -0.000521  \n",
       "104341  0.003984  0.001672 -0.000521  \n",
       "104342  0.000000  0.000000 -0.001042  \n",
       "104343  0.003984  0.001672 -0.000521  \n",
       "104344  0.003984  0.001672 -0.000521  \n",
       "\n",
       "[104345 rows x 19 columns]"
      ]
     },
     "execution_count": 52,
     "metadata": {},
     "output_type": "execute_result"
    }
   ],
   "source": [
    "from sklearn.preprocessing import RobustScaler\n",
    "scaler = RobustScaler()\n",
    "X_scaled=pd.DataFrame(scaler.fit_transform(X))\n",
    "X_scaled"
   ]
  },
  {
   "cell_type": "code",
   "execution_count": 53,
   "metadata": {},
   "outputs": [
    {
     "data": {
      "text/plain": [
       "(104345, 19)"
      ]
     },
     "execution_count": 53,
     "metadata": {},
     "output_type": "execute_result"
    }
   ],
   "source": [
    "X_scaled.shape"
   ]
  },
  {
   "cell_type": "code",
   "execution_count": 54,
   "metadata": {},
   "outputs": [],
   "source": [
    "x_train, x_test, y_train, y_test = train_test_split(X_scaled, Y, test_size=0.2, random_state=42)\n"
   ]
  },
  {
   "cell_type": "code",
   "execution_count": 55,
   "metadata": {},
   "outputs": [],
   "source": [
    "X_new=X.drop(columns=['Protocol'])\n",
    "Y_new=X['Protocol']"
   ]
  },
  {
   "cell_type": "code",
   "execution_count": 56,
   "metadata": {},
   "outputs": [],
   "source": [
    "X_new_scaled=pd.DataFrame(scaler.fit_transform(X_new))"
   ]
  },
  {
   "cell_type": "code",
   "execution_count": 57,
   "metadata": {},
   "outputs": [],
   "source": [
    "x_ntrain, x_ntest, y_ntrain, y_ntest = train_test_split(X_new_scaled, Y_new, test_size=0.2, random_state=42)\n"
   ]
  },
  {
   "cell_type": "code",
   "execution_count": null,
   "metadata": {},
   "outputs": [],
   "source": []
  },
  {
   "cell_type": "code",
   "execution_count": null,
   "metadata": {},
   "outputs": [],
   "source": []
  },
  {
   "cell_type": "code",
   "execution_count": 58,
   "metadata": {},
   "outputs": [],
   "source": [
    "def svm():\n",
    "    classifier=SVC(kernel=\"linear\")\n",
    "    classifier.fit(x_train,y_train)\n",
    "    y_pred= classifier.predict(x_test)\n",
    "    #kfold = model_selection.KFold(n_splits=10, random_state=seed)\n",
    "    #y_pred = model_selection.cross_val_score(classifier, x_train, y_train, cv=kfold, scoring=scoring)\n",
    "    score=accuracy_score(y_test,y_pred)\n",
    "    print(\"\\nSupport Vector Machine\\nAccuracy Score: \",+score)\n",
    "    #plt.scatter(y_test,y_pred)\n",
    "    #plt.xlabel('True Values ')\n",
    "    #plt.ylabel('Predictions ')\n",
    "    #plt.show()\n",
    "    return score  "
   ]
  },
  {
   "cell_type": "code",
   "execution_count": 59,
   "metadata": {},
   "outputs": [],
   "source": [
    "def random():\n",
    "    model = RandomForestClassifier(n_estimators=50)\n",
    "    model1= BaggingClassifier(base_estimator=model, n_estimators=70, random_state=41)\n",
    "    results_model = model1.fit(x_train,y_train)\n",
    "    y_pred1= results_model.predict(x_test)\n",
    "    score=accuracy_score(y_test,y_pred1)\n",
    "    print(\"\\nRandom Forest\\nAccuracy Score: \",+score)\n",
    "    \n",
    "    return score    "
   ]
  },
  {
   "cell_type": "code",
   "execution_count": 60,
   "metadata": {},
   "outputs": [],
   "source": [
    "def knn():\n",
    "    model= KNeighborsClassifier()\n",
    "    model.fit(x_train,y_train)\n",
    "    y_pred= model.predict(x_test)\n",
    "    score=accuracy_score(y_test,y_pred)\n",
    "    print(\"\\nKNeighbour\\nAccuracy Score: \",+score)\n",
    "    \n",
    "    return score"
   ]
  },
  {
   "cell_type": "code",
   "execution_count": 61,
   "metadata": {},
   "outputs": [],
   "source": [
    "models=[random,svm,knn]\n",
    "names=['random','svm','knn']"
   ]
  },
  {
   "cell_type": "code",
   "execution_count": 62,
   "metadata": {},
   "outputs": [],
   "source": [
    "# name=[]\n",
    "# results=[]\n",
    "# m=0\n",
    "# for model in models:\n",
    "#     print(\"\\n\")\n",
    "#     r=models[m]()\n",
    "#     results.append(r)\n",
    "#     name.append(m)\n",
    "    \n",
    "#     print('\\n')\n",
    "    \n",
    "#     m=m+1"
   ]
  },
  {
   "cell_type": "code",
   "execution_count": 63,
   "metadata": {},
   "outputs": [],
   "source": [
    "from tensorflow.keras.layers import BatchNormalization\n",
    "from keras.layers import Dropout"
   ]
  },
  {
   "cell_type": "code",
   "execution_count": 64,
   "metadata": {},
   "outputs": [],
   "source": [
    "model = Sequential()\n",
    "model.add(Dense(32, input_shape=(19,), activation='relu'))\n",
    "model.add(Dense(512, activation='relu'))\n",
    "model.add(BatchNormalization())\n",
    "model.add(Dropout(0.5))\n",
    "model.add(Dense(128, activation='relu'))\n",
    "model.add(BatchNormalization())\n",
    "model.add(Dropout(0.5))\n",
    "model.add(Dense(64, activation='relu'))\n",
    "model.add(Dense(1, activation='sigmoid'))"
   ]
  },
  {
   "cell_type": "code",
   "execution_count": 65,
   "metadata": {},
   "outputs": [
    {
     "name": "stdout",
     "output_type": "stream",
     "text": [
      "Model: \"sequential\"\n",
      "_________________________________________________________________\n",
      " Layer (type)                Output Shape              Param #   \n",
      "=================================================================\n",
      " dense (Dense)               (None, 32)                640       \n",
      "                                                                 \n",
      " dense_1 (Dense)             (None, 512)               16896     \n",
      "                                                                 \n",
      " batch_normalization (BatchN  (None, 512)              2048      \n",
      " ormalization)                                                   \n",
      "                                                                 \n",
      " dropout (Dropout)           (None, 512)               0         \n",
      "                                                                 \n",
      " dense_2 (Dense)             (None, 128)               65664     \n",
      "                                                                 \n",
      " batch_normalization_1 (Batc  (None, 128)              512       \n",
      " hNormalization)                                                 \n",
      "                                                                 \n",
      " dropout_1 (Dropout)         (None, 128)               0         \n",
      "                                                                 \n",
      " dense_3 (Dense)             (None, 64)                8256      \n",
      "                                                                 \n",
      " dense_4 (Dense)             (None, 1)                 65        \n",
      "                                                                 \n",
      "=================================================================\n",
      "Total params: 94,081\n",
      "Trainable params: 92,801\n",
      "Non-trainable params: 1,280\n",
      "_________________________________________________________________\n"
     ]
    }
   ],
   "source": [
    "model.summary()"
   ]
  },
  {
   "cell_type": "code",
   "execution_count": 66,
   "metadata": {},
   "outputs": [],
   "source": [
    "es = EarlyStopping(\n",
    "    monitor='val_accuracy', \n",
    "    mode='max',\n",
    "    patience=5,\n",
    "    restore_best_weights=True\n",
    ")"
   ]
  },
  {
   "cell_type": "code",
   "execution_count": 67,
   "metadata": {},
   "outputs": [],
   "source": [
    "model.compile(loss='binary_crossentropy', \n",
    "              optimizer='Adam', \n",
    "              metrics=['accuracy'])"
   ]
  },
  {
   "cell_type": "code",
   "execution_count": 83,
   "metadata": {},
   "outputs": [
    {
     "name": "stdout",
     "output_type": "stream",
     "text": [
      "Epoch 1/30\n",
      "268/268 [==============================] - 2s 7ms/step - loss: 0.0296 - accuracy: 0.9877 - val_loss: 0.0229 - val_accuracy: 0.9903\n",
      "Epoch 2/30\n",
      "268/268 [==============================] - 2s 7ms/step - loss: 0.0290 - accuracy: 0.9878 - val_loss: 0.0232 - val_accuracy: 0.9901\n",
      "Epoch 3/30\n",
      "268/268 [==============================] - 2s 7ms/step - loss: 0.0259 - accuracy: 0.9891 - val_loss: 0.0210 - val_accuracy: 0.9902\n",
      "Epoch 4/30\n",
      "268/268 [==============================] - 2s 7ms/step - loss: 0.0249 - accuracy: 0.9898 - val_loss: 0.0209 - val_accuracy: 0.9901\n",
      "Epoch 5/30\n",
      "268/268 [==============================] - 2s 8ms/step - loss: 0.0271 - accuracy: 0.9886 - val_loss: 0.0213 - val_accuracy: 0.9908\n",
      "Epoch 6/30\n",
      "268/268 [==============================] - 3s 12ms/step - loss: 0.0256 - accuracy: 0.9888 - val_loss: 0.0188 - val_accuracy: 0.9920\n",
      "Epoch 7/30\n",
      "268/268 [==============================] - 3s 12ms/step - loss: 0.0243 - accuracy: 0.9899 - val_loss: 0.0200 - val_accuracy: 0.9923\n",
      "Epoch 8/30\n",
      "268/268 [==============================] - 3s 12ms/step - loss: 0.0247 - accuracy: 0.9899 - val_loss: 0.0211 - val_accuracy: 0.9901\n",
      "Epoch 9/30\n",
      "268/268 [==============================] - 3s 12ms/step - loss: 0.0232 - accuracy: 0.9905 - val_loss: 0.0184 - val_accuracy: 0.9918\n",
      "Epoch 10/30\n",
      "268/268 [==============================] - 3s 10ms/step - loss: 0.0241 - accuracy: 0.9901 - val_loss: 0.0193 - val_accuracy: 0.9916\n",
      "Epoch 11/30\n",
      "268/268 [==============================] - 2s 9ms/step - loss: 0.0258 - accuracy: 0.9893 - val_loss: 0.0252 - val_accuracy: 0.9884\n",
      "Epoch 12/30\n",
      "268/268 [==============================] - 2s 8ms/step - loss: 0.0218 - accuracy: 0.9910 - val_loss: 0.0203 - val_accuracy: 0.9908\n"
     ]
    }
   ],
   "source": [
    "history=model.fit(x_train, \n",
    "          y_train, \n",
    "          epochs=30,\n",
    "          batch_size=250, \n",
    "          verbose=1, \n",
    "          validation_split=0.2,\n",
    "          callbacks=[es])"
   ]
  },
  {
   "cell_type": "code",
   "execution_count": 68,
   "metadata": {},
   "outputs": [],
   "source": [
    "from keras.utils import plot_model\n",
    "import pydot\n",
    "import graphviz\n"
   ]
  },
  {
   "cell_type": "code",
   "execution_count": 69,
   "metadata": {},
   "outputs": [
    {
     "data": {
      "image/png": "[encoded data removed]",
      "text/plain": [
       "<IPython.core.display.Image object>"
      ]
     },
     "execution_count": 69,
     "metadata": {},
     "output_type": "execute_result"
    }
   ],
   "source": [
    "plot_model(model, to_file='simple_model.png')"
   ]
  },
  {
   "cell_type": "code",
   "execution_count": 71,
   "metadata": {},
   "outputs": [],
   "source": [
    "#from tensorflow.keras.layers import GroupNormalization"
   ]
  },
  {
   "cell_type": "code",
   "execution_count": 80,
   "metadata": {},
   "outputs": [
    {
     "data": {
      "image/png": "[encoded data removed]",
      "text/plain": [
       "<IPython.core.display.Image object>"
      ]
     },
     "execution_count": 80,
     "metadata": {},
     "output_type": "execute_result"
    }
   ],
   "source": [
    "plot_model(model,show_shapes=True,show_layer_activations=True,to_file='DDoS_model.png')"
   ]
  },
  {
   "cell_type": "code",
   "execution_count": 114,
   "metadata": {},
   "outputs": [
    {
     "name": "stdout",
     "output_type": "stream",
     "text": [
      "dict_keys(['loss', 'accuracy', 'val_loss', 'val_accuracy'])\n"
     ]
    }
   ],
   "source": [
    "print(history.history.keys())"
   ]
  },
  {
   "cell_type": "code",
   "execution_count": 115,
   "metadata": {},
   "outputs": [],
   "source": [
    "#history.history"
   ]
  },
  {
   "cell_type": "code",
   "execution_count": 118,
   "metadata": {},
   "outputs": [
    {
     "data": {
      "image/png": "[encoded data removed]",
      "text/plain": [
       "<Figure size 432x288 with 1 Axes>"
      ]
     },
     "metadata": {
      "needs_background": "light"
     },
     "output_type": "display_data"
    },
    {
     "data": {
      "text/plain": [
       "<Figure size 432x288 with 0 Axes>"
      ]
     },
     "metadata": {},
     "output_type": "display_data"
    }
   ],
   "source": [
    "plt.plot(history.history['accuracy'])\n",
    "plt.plot(history.history['val_accuracy'])\n",
    "plt.title('model accuracy')\n",
    "plt.ylabel('accuracy')\n",
    "plt.xlabel('epoch')\n",
    "plt.legend(['train', 'test'], loc='upper left')\n",
    "plt.show()\n",
    "plt.savefig(\"model_accuracy2.jpg\")"
   ]
  },
  {
   "cell_type": "code",
   "execution_count": 103,
   "metadata": {},
   "outputs": [
    {
     "data": {
      "image/png": "[encoded data removed]",
      "text/plain": [
       "<Figure size 432x288 with 1 Axes>"
      ]
     },
     "metadata": {
      "needs_background": "light"
     },
     "output_type": "display_data"
    },
    {
     "data": {
      "text/plain": [
       "<Figure size 432x288 with 0 Axes>"
      ]
     },
     "metadata": {},
     "output_type": "display_data"
    }
   ],
   "source": [
    "plt.plot(history.history['accuracy'])\n",
    "plt.title('model accuracy')\n",
    "plt.ylabel('accuracy')\n",
    "plt.xlabel('epoch')\n",
    "plt.legend(['train'],loc='upper left')\n",
    "plt.show()\n",
    "plt.savefig(\"model_accuracy.jpg\")"
   ]
  },
  {
   "cell_type": "code",
   "execution_count": null,
   "metadata": {},
   "outputs": [],
   "source": []
  },
  {
   "cell_type": "code",
   "execution_count": null,
   "metadata": {},
   "outputs": [],
   "source": []
  },
  {
   "cell_type": "code",
   "execution_count": null,
   "metadata": {},
   "outputs": [],
   "source": []
  },
  {
   "cell_type": "code",
   "execution_count": 117,
   "metadata": {},
   "outputs": [
    {
     "data": {
      "image/png": "[encoded data removed]",
      "text/plain": [
       "<Figure size 432x288 with 1 Axes>"
      ]
     },
     "metadata": {
      "needs_background": "light"
     },
     "output_type": "display_data"
    }
   ],
   "source": [
    "plt.plot(history.history['loss'])\n",
    "plt.plot(history.history['val_loss'])\n",
    "plt.title('model loss')\n",
    "plt.ylabel('loss')\n",
    "plt.xlabel('epoch')\n",
    "plt.legend(['train', 'test'], loc='upper left')\n",
    "plt.show()"
   ]
  },
  {
   "cell_type": "code",
   "execution_count": 102,
   "metadata": {},
   "outputs": [
    {
     "data": {
      "image/png": "[encoded data removed]",
      "text/plain": [
       "<Figure size 432x288 with 1 Axes>"
      ]
     },
     "metadata": {
      "needs_background": "light"
     },
     "output_type": "display_data"
    },
    {
     "data": {
      "text/plain": [
       "<Figure size 432x288 with 0 Axes>"
      ]
     },
     "metadata": {},
     "output_type": "display_data"
    }
   ],
   "source": [
    "plt.plot(history.history['loss'])\n",
    "plt.title('model loss')\n",
    "plt.ylabel('loss')\n",
    "plt.xlabel('epoch')\n",
    "plt.legend(['train'],loc='upper left')\n",
    "plt.show()\n",
    "plt.savefig(\"model_loss.jpg\")"
   ]
  },
  {
   "cell_type": "code",
   "execution_count": 87,
   "metadata": {},
   "outputs": [],
   "source": [
    "from sklearn.metrics import confusion_matrix, ConfusionMatrixDisplay"
   ]
  },
  {
   "cell_type": "code",
   "execution_count": 89,
   "metadata": {},
   "outputs": [
    {
     "name": "stdout",
     "output_type": "stream",
     "text": [
      "653/653 [==============================] - 1s 1ms/step\n"
     ]
    }
   ],
   "source": [
    "y_pred=model.predict(x_test)"
   ]
  },
  {
   "cell_type": "code",
   "execution_count": 95,
   "metadata": {},
   "outputs": [
    {
     "data": {
      "text/plain": [
       "array([[1.4859219e-09],\n",
       "       [7.7049237e-01],\n",
       "       [1.9012918e-09],\n",
       "       ...,\n",
       "       [8.8243816e-08],\n",
       "       [4.4210440e-01],\n",
       "       [1.2365955e-08]], dtype=float32)"
      ]
     },
     "execution_count": 95,
     "metadata": {},
     "output_type": "execute_result"
    }
   ],
   "source": [
    "y_pred\n"
   ]
  },
  {
   "cell_type": "code",
   "execution_count": 98,
   "metadata": {},
   "outputs": [
    {
     "name": "stdout",
     "output_type": "stream",
     "text": [
      "653/653 [==============================] - 1s 1ms/step\n",
      "[[12565   157]\n",
      " [   40  8107]]\n"
     ]
    }
   ],
   "source": [
    "from sklearn.metrics import confusion_matrix\n",
    "from sklearn.metrics import classification_report\n",
    "\n",
    "\n",
    "preds = np.round(model.predict(x_test),0)\n",
    "\n",
    "cm=confusion_matrix(y_test, preds)\n",
    "print (cm)"
   ]
  },
  {
   "cell_type": "code",
   "execution_count": 101,
   "metadata": {},
   "outputs": [
    {
     "data": {
      "image/png": "[encoded data removed]",
      "text/plain": [
       "<Figure size 432x288 with 2 Axes>"
      ]
     },
     "metadata": {
      "needs_background": "light"
     },
     "output_type": "display_data"
    }
   ],
   "source": [
    "cm_dis=ConfusionMatrixDisplay(confusion_matrix=cm, display_labels=['Benign','Maliciuous'])\n",
    "\n",
    "cm_dis.plot()\n",
    "plt.savefig(\"confusion.jpg\")"
   ]
  },
  {
   "cell_type": "code",
   "execution_count": null,
   "metadata": {},
   "outputs": [],
   "source": []
  },
  {
   "cell_type": "code",
   "execution_count": null,
   "metadata": {},
   "outputs": [],
   "source": []
  },
  {
   "cell_type": "code",
   "execution_count": null,
   "metadata": {},
   "outputs": [],
   "source": []
  },
  {
   "cell_type": "code",
   "execution_count": 72,
   "metadata": {},
   "outputs": [],
   "source": [
    "# nmodel = Sequential()\n",
    "# nmodel.add(Dense(32, input_shape=(18,), activation='relu'))\n",
    "# nmodel.add(Dense(512, activation='relu'))\n",
    "# nmodel.add(GroupNormalization())\n",
    "# nmodel.add(Dropout(0.5))\n",
    "# nmodel.add(Dense(128, activation='relu'))\n",
    "# nmodel.add(GroupNormalization())\n",
    "# nmodel.add(Dropout(0.5))\n",
    "# nmodel.add(Dense(64, activation='relu'))\n",
    "# nmodel.add(Dense(1, activation='sigmoid'))"
   ]
  },
  {
   "cell_type": "code",
   "execution_count": 73,
   "metadata": {},
   "outputs": [],
   "source": [
    "# nmodel.summary()"
   ]
  },
  {
   "cell_type": "code",
   "execution_count": 74,
   "metadata": {},
   "outputs": [],
   "source": [
    "# es = EarlyStopping(\n",
    "#     monitor='val_accuracy', \n",
    "#     mode='max',\n",
    "#     patience=5,\n",
    "#     restore_best_weights=True\n",
    "# )"
   ]
  },
  {
   "cell_type": "code",
   "execution_count": 75,
   "metadata": {},
   "outputs": [],
   "source": [
    "# nmodel.compile(loss='categorical_crossentropy', \n",
    "#               optimizer='Adam', \n",
    "#               metrics=['accuracy'])"
   ]
  },
  {
   "cell_type": "code",
   "execution_count": null,
   "metadata": {},
   "outputs": [],
   "source": []
  },
  {
   "cell_type": "code",
   "execution_count": null,
   "metadata": {},
   "outputs": [],
   "source": []
  },
  {
   "cell_type": "code",
   "execution_count": null,
   "metadata": {},
   "outputs": [],
   "source": []
  },
  {
   "cell_type": "code",
   "execution_count": null,
   "metadata": {},
   "outputs": [],
   "source": []
  },
  {
   "cell_type": "code",
   "execution_count": null,
   "metadata": {},
   "outputs": [],
   "source": []
  },
  {
   "cell_type": "code",
   "execution_count": 76,
   "metadata": {},
   "outputs": [],
   "source": [
    "# nmodel.fit(x_ntrain, \n",
    "#           y_ntrain, \n",
    "#           epochs=30,\n",
    "#           batch_size=250, \n",
    "#           verbose=1, \n",
    "#           validation_split=0.2,\n",
    "#           callbacks=[es])"
   ]
  },
  {
   "cell_type": "code",
   "execution_count": null,
   "metadata": {},
   "outputs": [],
   "source": []
  },
  {
   "cell_type": "code",
   "execution_count": null,
   "metadata": {},
   "outputs": [],
   "source": []
  },
  {
   "cell_type": "code",
   "execution_count": null,
   "metadata": {},
   "outputs": [],
   "source": []
  },
  {
   "cell_type": "code",
   "execution_count": null,
   "metadata": {},
   "outputs": [],
   "source": []
  },
  {
   "cell_type": "code",
   "execution_count": null,
   "metadata": {},
   "outputs": [],
   "source": []
  },
  {
   "cell_type": "code",
   "execution_count": null,
   "metadata": {},
   "outputs": [],
   "source": []
  },
  {
   "cell_type": "code",
   "execution_count": null,
   "metadata": {},
   "outputs": [],
   "source": []
  },
  {
   "cell_type": "code",
   "execution_count": null,
   "metadata": {},
   "outputs": [],
   "source": []
  },
  {
   "cell_type": "code",
   "execution_count": null,
   "metadata": {},
   "outputs": [],
   "source": []
  },
  {
   "cell_type": "code",
   "execution_count": null,
   "metadata": {},
   "outputs": [],
   "source": []
  },
  {
   "cell_type": "code",
   "execution_count": null,
   "metadata": {},
   "outputs": [],
   "source": []
  },
  {
   "cell_type": "code",
   "execution_count": null,
   "metadata": {},
   "outputs": [],
   "source": []
  },
  {
   "cell_type": "code",
   "execution_count": null,
   "metadata": {},
   "outputs": [],
   "source": []
  },
  {
   "cell_type": "code",
   "execution_count": null,
   "metadata": {},
   "outputs": [],
   "source": []
  },
  {
   "cell_type": "code",
   "execution_count": null,
   "metadata": {},
   "outputs": [],
   "source": []
  },
  {
   "cell_type": "code",
   "execution_count": null,
   "metadata": {},
   "outputs": [],
   "source": []
  },
  {
   "cell_type": "code",
   "execution_count": null,
   "metadata": {},
   "outputs": [],
   "source": []
  },
  {
   "cell_type": "code",
   "execution_count": null,
   "metadata": {},
   "outputs": [],
   "source": []
  },
  {
   "cell_type": "code",
   "execution_count": null,
   "metadata": {},
   "outputs": [],
   "source": []
  },
  {
   "cell_type": "code",
   "execution_count": null,
   "metadata": {},
   "outputs": [],
   "source": []
  },
  {
   "cell_type": "code",
   "execution_count": null,
   "metadata": {},
   "outputs": [],
   "source": []
  },
  {
   "cell_type": "code",
   "execution_count": null,
   "metadata": {},
   "outputs": [],
   "source": []
  },
  {
   "cell_type": "code",
   "execution_count": null,
   "metadata": {},
   "outputs": [],
   "source": []
  },
  {
   "cell_type": "code",
   "execution_count": null,
   "metadata": {},
   "outputs": [],
   "source": []
  },
  {
   "cell_type": "code",
   "execution_count": null,
   "metadata": {},
   "outputs": [],
   "source": []
  },
  {
   "cell_type": "code",
   "execution_count": null,
   "metadata": {},
   "outputs": [],
   "source": []
  },
  {
   "cell_type": "code",
   "execution_count": null,
   "metadata": {},
   "outputs": [],
   "source": []
  },
  {
   "cell_type": "code",
   "execution_count": null,
   "metadata": {},
   "outputs": [],
   "source": []
  },
  {
   "cell_type": "code",
   "execution_count": null,
   "metadata": {},
   "outputs": [],
   "source": []
  },
  {
   "cell_type": "code",
   "execution_count": null,
   "metadata": {},
   "outputs": [],
   "source": []
  },
  {
   "cell_type": "code",
   "execution_count": null,
   "metadata": {},
   "outputs": [],
   "source": []
  },
  {
   "cell_type": "code",
   "execution_count": null,
   "metadata": {},
   "outputs": [],
   "source": []
  },
  {
   "cell_type": "code",
   "execution_count": null,
   "metadata": {},
   "outputs": [],
   "source": []
  },
  {
   "cell_type": "code",
   "execution_count": null,
   "metadata": {},
   "outputs": [],
   "source": []
  }
 ],
 "metadata": {
  "kernelspec": {
   "display_name": "Python 3",
   "language": "python",
   "name": "python3"
  },
  "language_info": {
   "codemirror_mode": {
    "name": "ipython",
    "version": 3
   },
   "file_extension": ".py",
   "mimetype": "text/x-python",
   "name": "python",
   "nbconvert_exporter": "python",
   "pygments_lexer": "ipython3",
   "version": "3.8.3"
  }
 },
 "nbformat": 4,
 "nbformat_minor": 4
}
